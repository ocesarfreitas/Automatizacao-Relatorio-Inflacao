{
 "cells": [
  {
   "cell_type": "markdown",
   "id": "3cf1ef6b",
   "metadata": {},
   "source": [
    "# Aula 8\n",
    "## Modelo Multivariados (Modelo multiequacionais)\n",
    "\n",
    "Considere o modelo:\n",
    "\n",
    "$$y_t = a_0 + a_1y_{t-1}+c_0z_t+e_t$$\n",
    "\n",
    "Com $|a_1|<1$, onde $z_t$ é uma intervenção (variável dummy) que toma valor 1 para determinado evento e zero caso contrário (pode ser de pulso, nível ou mudar gradualmente). $e_t$ é ruído branco.\n",
    "\n",
    "A partir desse modelo qual o efeito de uma intervenção de política $z_t$?\n",
    "\n",
    "## Função Impulso Resposta\n",
    "\n",
    "Vamos analisar a equação original:\n",
    "\n",
    "$$(1-a_1L)y_t=a_0+c_0z_t+e_t$$\n",
    "$$y_t=\\frac{a_0}{(1-a_1L)}+c_0\\displaystyle\\sum^{\\infty}_{i=0}a^i_1z_{t-i}+\\displaystyle\\sum^{\\infty}_{i=0}a^i_1e_{t-i}$$\n",
    "\n",
    "Essa é uma equação de impulso resposta.\n",
    "\n",
    "Para analisar a resposta de $y_t$ à intervenção basta *diferenciar* a equação com relação à $z_t$ e atualizar a equação um período.\n",
    "\n",
    "$$\\frac{dy_{t+1}}{dz_t}=c_0+c_0+a_1$$\n",
    "\n",
    "Para o período *t*, o impacto de $z_t$ sobre $y_t$ é dado pela\n",
    "magnitude de $c_0$. O impacto no período seguinte é amortecido\n",
    "por $a_1$ que reflete o efeito de $y_t$ sobre $y_{t+1}$.\n",
    "\n",
    "Do ponto de vista algébrico basta perceber que $z_t=z_{t+1}=1$. Estendendo isso j períodos à frente obtemos:\n",
    "\n",
    "$$\\frac{dy_{t+j}}{dz_{t}}=c_0[1+a_1+a_1^2+\\cdots+a_1^j]$$\n",
    "\n",
    "Tomando o limite $j\\rightarrow\\infty$ o impacto de longo prazo é $\\frac{c_0}{(1-a_1)}$.\n",
    "\n",
    "Se $0<a_1<1$, a magnitude do impacto é uma função\n",
    "crescente de j.\n",
    "\n",
    "Se $-1<a_1<0$, o efeito oscila convergindo para o valor de\n",
    "longo prazo.\n",
    "\n",
    "$z_t$ pode afetar $y_t$ com defasagem. Normalmente isso é claro\n",
    "por conhecimento prévio. Quando existe alguma dúvida, o\n",
    "método de Box-Jenkins pode ser utilizado.\n",
    "\n",
    "## Modelos de função de transferência\n",
    "Uma extensão natural é considerar que $\\{z_{t}\\}$ é uma sequência\n",
    "e que processo é autoregressivo de ordem superior a um:\n",
    "\n",
    "$$y_t=a_0+A(L)y_{t-1}+C(L)z_t+B(L)e_t$$\n",
    "\n",
    "onde $A(L)$, $B(L)$ e $C(L)$, e são polinômios no operador lag. Esse modelo é conhecido como ARDL (autoregressive distributed lag). O polinômio $C(L)$ é chamado função de transferência que\n",
    "mostra como a variável exógena $z_t$ afeta a trajetória de $\\{y_t\\}$.\n",
    "$\\{z_t\\}$ é chamado de leading indicator, pois observações de $z_t$, $z_t-1$, $z_t-2$ podem ser usados para prever valores futuros de $\\{y_t\\}$.\n",
    "\n",
    "## A função correlação cruzada (CCF)\n",
    "A versão multivariada da função de autocorrelação\n",
    "\n",
    "Usa as correlações cruzadas entre $y_t$ e $z_{t-i}$. A correlação cruzada é equivalente à autocorrelação, só que substituindo as defasagens de $y_t$ por $z_{t-i}$.\n",
    "\n",
    "$$\\rho_{yz}(i)=\\frac{Cov(y_t,z_{t-i})}{\\sigma_z\\sigma_y}$$\n",
    "\n",
    "onde $\\sigma_y$ e $\\sigma_z$ são os desvios padrão de *y* e *z*.\n",
    "\n",
    "Plotagem de cada $\\rho_{yz}(i)$ dá a função de correlação cruzada (CCF) ou correlograma cruzado e apresenta o mesmo tipo de informação que a ACF em um modelo ARMA. \n",
    "\n",
    "Por analogia, o CCF é zero até a defasagem *d* e possui uma taxa de decaimento de $a_1$ depois do primeiro elemento diferente de zero.\n",
    "\n",
    "### O padrão da CCF teórica\n",
    "A CCF teórica:\n",
    "\n",
    "Todos os $\\rho_{yz}(i)$ serão zero até o primeiro elemento diferente de zero do polinômio $C(L)$.\n",
    "\n",
    "Um salto da CCF indica um elemento não zero de $C(L)$. Assim, um salto na defasagem *d* indica que $z_{t-d}$ afeta diretamente $y_t$.\n",
    "\n",
    "Esses saltos decaem à taxa $a_1$ e a convergência implica que\n",
    "o valor absoluto de $a_1$ é menor que a unidade. \n",
    "\n",
    "- Se $0<a_1<1$ decaimento será direto;\n",
    "- Se $-1<a_1<0$ decaimento será oscilatório.\n",
    "\n",
    "### Processos de ordem maior\n",
    "É raro observar um processo como os anteriores. Na prática $\\{z_t\\}$ pode ser um processo ARMA.\n",
    "\n",
    "$$y_t=a_0+A(L)y_{t-1}+C(L)z_t+B(L)e_t$$\n",
    "$$D(L)z_t=E(L)e_{z,t}$$\n",
    "\n",
    "onde $e_{z,t}$ é um ruído branco.\n",
    "\n",
    "As raízes de $D(L)$ e $E(L)$ são tais que $\\{z_{t}\\}$ é estacionário e inversível. Desde que $\\{z_{t}\\}$ é independente (estritamente exógeno) de $\\{y_{t}\\}$ não há influencia de $\\{y_{t}\\}\\rightarrow\\{z_{t}\\}$. Como tal, $E(e_t,e_{z,t})=0$, ou seja, os erros são não correlacionados, o que permite realizar estimações via OLS. Se fossem correlacionados teríamos endogenia no modelo.\n",
    "\n",
    "Assim, é possível traçar o efeito das funções impulso resposta de forma separadas.\n",
    "\n",
    "### Efeitos de impulso resposta \n",
    "Qual o efeito de choques de $e_t$ sobre $y_t$:\n",
    "\n",
    "Mantendo $z_t$ constante, a impulso resposta é dada por: $\\frac{B_L}{(1-A(L))}$.\n",
    "\n",
    "Choques de $\\{z_t\\}$ afetam $\\{y_t\\}$:\n",
    "\n",
    "$$y_t=a_0+A(L)y_{t-1}+\\frac{C(L)E(L)}{D(L)}e_{z,t}+B(L)e_t$$\n",
    "\n",
    "A função impulso resposta de $\\{z_t\\}$ sobre $\\{y_t\\}$ é:\n",
    "$$\\frac{C(L)E(L)}{D(L)[1-A(L)]}$$\n",
    "\n",
    "### Previsões\n",
    "Suponha que $z_t=dz_{t-1}+e_{z,t}$ e $y_t=a_1y_{t-1}+c_1z_t+e_t$. As previsões são:\n",
    "\n",
    "$$E_ty_{t+1}=a_1y_t+c_1E_tz_{t+1}=a_1y_t+c_1d_1z_t$$\n",
    "$$E_ty_{t+2}=a^2_1y_t+c_1d_1(a_1+d_1)z_t$$\n",
    "\n",
    "E assim por diante.\n",
    "\n",
    "### Identificação e estimação\n",
    "\n",
    "Existem duas técnicas para estimar a função de transferência:\n",
    "1) Estime a equação:\n",
    "\n",
    "$$y_t=a_0+\\displaystyle\\sum^p_{i=1}a_iy_{t-i}+\\displaystyle\\sum^n_{i=0}c_iz_{t-i}+e_t$$\n",
    "\n",
    "Essa equação é conhecida como modelo de lag distribuído.\n",
    "\n",
    "Estime um ADL bastante abrangente e factível e siga reduzindo-o a partir das estatísticas t e F e dos critérios de informação AIC e SBC e teste os resíduos. \n",
    "\n",
    "É o método mais utilizado, mas tende a gerar um modelo superparametrizado porque omite os termos MA.\n",
    "\n",
    "### Método alternativo\n",
    "Estime a equação diretamente:\n",
    "\n",
    "$$y_t=a_0+A(L)y_{t-1}+C(L)z_t+B(L)e_t$$\n",
    "\n",
    "1) Estime uma AR para $\\{z_t\\}$ para obter $\\hat{e}_{z,t-i}$\n",
    "\n",
    "2) Obtenha um filtro de $\\{y_t\\}$ usando $D(L)$:\n",
    "\n",
    "$$D(L)y_t\\equiv y_{ft}=D(L)[a_0+A(L)y_{t-1}+C(L)z_t+B(L)e_t]$$\n",
    "\n",
    "3) Forme a CCF entre $y_{ft}$ e $\\hat{e}_{z,t-i}$\n",
    "\n",
    "A CCF é um guia para identificar o modelo ARMA para encontrar\n",
    "$A(L)$ e $C(L)$. O “salto” da CCF ajuda a encontrar $C(L)$ e o decaimento ajuda a encontrar $A(L)$. Faça a regressão entre $y_{t}$ sobre seus lags e a defasagem selecionada de $\\{y_t\\}$.\n",
    "\n",
    "Assim, teremos estimado: $[1-A(L)]y_t=C(L)z_t+e_t$\n",
    "\n",
    "4) A $\\{e_t\\}$ obtida é uma aproximação de $B(L)$. Estime um modelo para de modo a encontrar um polinômio plausível para $B(L)$.\n",
    "\n",
    "5) Combine 3) e 4) para estimar $A(L)$, $B(L)$ e $C(L)$ simultaneamente e verifique os resíduos.\n",
    "\n",
    "- Obs.: Pouco utilizado\n",
    "\n",
    "## ARDL como modelo de correção de erros\n",
    "Considere um ARDL (1,1) da forma:\n",
    "\n",
    "$$y_t=\\mu+\\gamma y_{t-1}+\\beta_0x_t+\\beta_1x_{t-1}+e_t$$\n",
    "\n",
    "Reescreva a equação em termos de primeira diferença $\\Delta y_t$:\n",
    "\n",
    "$$\\Delta y_t=\\mu+\\gamma_1 y_{t-1}-y_{t-1}+\\beta_0x_t+(\\beta_0x_{t-1}-\\beta_0x_{t-1})+\\beta_1x_{t-1}+e_t$$\n",
    "$$\\Delta y_t=\\mu+(\\gamma_1 -1)y_{t-1}+\\beta_0\\Delta x_t+(\\beta_0-\\beta_1)x_{t-1}+e_t$$\n",
    "\n",
    "\n",
    "Dividindo e multiplicado $x_{t-1}$ por $\\gamma_1 - 1$:\n",
    "\n",
    "$$\\Delta y_t=\\mu+\\beta_0\\Delta x_t+(\\gamma_1-1)(y_{t-1}-\\theta x_{t-1})+e_t$$\n",
    "\n",
    "Onde $\\theta=-\\frac{(\\beta_0-\\beta_1)}{\\gamma_1-1}$\n",
    "\n",
    "A equação de longo prazo assume que $\\Delta y_t=\\Delta x_t = 0$.\n",
    "\n",
    "### Problemas\n",
    "Existem dois problemas econômicos principais com modelos\n",
    "de função de transferência:\n",
    "\n",
    "1) A tendência de se obter modelos super parametrizados o que torna as previsões muito imprecisas.\n",
    "\n",
    "2) A hipótese de que não há feedback de sobre $\\{z_t\\}$ e $\\{y_t\\}$. Para os coeficientes de estarem não viesados;  $z_t$ precisa ser não correlacionado com $\\{e_t\\}$ para todos os lags e leads.\n",
    "\n",
    "Em muitas aplicações econômicas, essas variáveis de políticas são decididas com base no estado corrente das outras variáveis presentes no sistema."
   ]
  },
  {
   "cell_type": "code",
   "execution_count": 88,
   "id": "900db960",
   "metadata": {},
   "outputs": [],
   "source": [
    "# Pacotes\n",
    "import pandas as pd\n",
    "import numpy as np\n",
    "import matplotlib.pyplot as plt\n",
    "\n",
    "# \n",
    "from statsmodels.tsa.ardl import ardl_select_order, ARDL, UECM\n",
    "from statsmodels.tsa.vector_ar.vecm import VECM"
   ]
  },
  {
   "cell_type": "code",
   "execution_count": 37,
   "id": "9539bae4",
   "metadata": {},
   "outputs": [],
   "source": [
    "## Grenne\n",
    "df_grenne = pd.read_csv(\"Dados/grenne.csv\")\n",
    "\n",
    "# Logaritmizando variáveis\n",
    "df_grenne['lconsumo'] = np.log(df_grenne['CONSUMO'])\n",
    "df_grenne['ly'] = np.log(df_grenne['Y'])\n",
    "\n",
    "# Criando dummies de tempo\n",
    "df_grenne['Date'] = pd.to_datetime(df_grenne['Date'])\n",
    "df_grenne['mes'] = [i.month for i in df_grenne['Date']]\n",
    "df_grenne['quart_1'] = np.where(df_grenne.mes == 1, 1, 0)\n",
    "df_grenne['quart_2'] = np.where(df_grenne.mes == 4, 1, 0)\n",
    "df_grenne['quart_3'] = np.where(df_grenne.mes == 7, 1, 0)\n",
    "\n",
    "# Planos para depois, automatizar a criação das dummies\n",
    "#for i in range(1,10):\n",
    "#    globals()[f\"s_lag_{i}\"] = my_data[['Date']].shift(i)\n",
    "#    pdList = []\n",
    "#    pdList.extend(value for name,\n",
    "#                  value in locals().items() if name.startswith('s_lag_'))\n",
    "#    df_merged = pd.concat(pdList, axis = 1)    \n",
    "#for j in  range(0,9):\n",
    "#    newcolumns = df_merged.columns.values\n",
    "#    newcolumns[j] = f\"s_lag_{j+1}\"\n",
    "\n",
    "#\n",
    "#my_data = pd.merge(my_data, df_merged, on='Date', how='right', copy=False,\n",
    "#                   sort=False, suffixes=('','')) "
   ]
  },
  {
   "cell_type": "markdown",
   "id": "8f3ddc44",
   "metadata": {},
   "source": [
    "### Modelo por Critério de Akaike"
   ]
  },
  {
   "cell_type": "code",
   "execution_count": 17,
   "id": "21f9a3ac",
   "metadata": {},
   "outputs": [
    {
     "name": "stdout",
     "output_type": "stream",
     "text": [
      "A ordem ótima é: (5, 1)\n"
     ]
    }
   ],
   "source": [
    "#\n",
    "sel_res=ardl_select_order(endog=df_grenne[['lconsumo']], maxlag=8, exog=df_grenne[['ly']], maxorder=8, trend='c', ic='aic',\n",
    "                         seasonal=True, period=4)\n",
    "print(f\"A ordem ótima é: {sel_res.model.ardl_order}\")"
   ]
  },
  {
   "cell_type": "code",
   "execution_count": 30,
   "id": "45d6b59d",
   "metadata": {},
   "outputs": [
    {
     "name": "stdout",
     "output_type": "stream",
     "text": [
      "                               ARDL Model Results                              \n",
      "===============================================================================\n",
      "Dep. Variable:                lconsumo   No. Observations:                  204\n",
      "Model:             ARDL(5, 1, 0, 0, 0)   Log Likelihood                 747.939\n",
      "Method:                Conditional MLE   S.D. of innovations              0.006\n",
      "Date:                 Wed, 30 Mar 2022   AIC                          -1471.878\n",
      "Time:                         09:22:33   BIC                          -1432.358\n",
      "Sample:                              5   HQIC                         -1455.883\n",
      "                                   204                                         \n",
      "===============================================================================\n",
      "                  coef    std err          z      P>|z|      [0.025      0.975]\n",
      "-------------------------------------------------------------------------------\n",
      "const          -0.0582      0.028     -2.091      0.038      -0.113      -0.003\n",
      "lconsumo.L1     0.8545      0.064     13.263      0.000       0.727       0.982\n",
      "lconsumo.L2     0.2588      0.082      3.151      0.002       0.097       0.421\n",
      "lconsumo.L3    -0.1566      0.072     -2.190      0.030      -0.298      -0.016\n",
      "lconsumo.L4    -0.1941      0.070     -2.754      0.006      -0.333      -0.055\n",
      "lconsumo.L5     0.1695      0.048      3.495      0.001       0.074       0.265\n",
      "ly.L0           0.5476      0.048     11.350      0.000       0.452       0.643\n",
      "ly.L1          -0.4757      0.051     -9.311      0.000      -0.576      -0.375\n",
      "quart_1.L0     -0.0003      0.001     -0.296      0.768      -0.003       0.002\n",
      "quart_2.L0     -0.0005      0.001     -0.387      0.699      -0.003       0.002\n",
      "quart_3.L0      0.0009      0.001      0.729      0.467      -0.001       0.003\n",
      "===============================================================================\n"
     ]
    }
   ],
   "source": [
    "exog_lags = {\"ly\": [0,1], \"quart_1\": 0, \"quart_2\": 0, 'quart_3':0}\n",
    "exog = df_grenne[[\"ly\", \"quart_1\", \"quart_2\", \"quart_3\"]]\n",
    "ardl = ARDL(df_grenne['lconsumo'], 5, exog, exog_lags, trend='c')\n",
    "print(ardl.fit().summary())"
   ]
  },
  {
   "cell_type": "markdown",
   "id": "ab462e98",
   "metadata": {},
   "source": [
    "### Modelo por Schwarz"
   ]
  },
  {
   "cell_type": "code",
   "execution_count": 31,
   "id": "ad7902f9",
   "metadata": {},
   "outputs": [
    {
     "name": "stdout",
     "output_type": "stream",
     "text": [
      "A ordem ótima é: (1, 1)\n"
     ]
    }
   ],
   "source": [
    "#\n",
    "sel_res=ardl_select_order(endog=df_grenne[['lconsumo']], maxlag=8, exog=df_grenne[['ly']], maxorder=8, trend='c', ic='bic',\n",
    "                         seasonal=True, period=4)\n",
    "print(f\"A ordem ótima é: {sel_res.model.ardl_order}\")"
   ]
  },
  {
   "cell_type": "code",
   "execution_count": 32,
   "id": "ae16e913",
   "metadata": {},
   "outputs": [
    {
     "name": "stdout",
     "output_type": "stream",
     "text": [
      "                               ARDL Model Results                              \n",
      "===============================================================================\n",
      "Dep. Variable:                lconsumo   No. Observations:                  204\n",
      "Model:             ARDL(1, 1, 0, 0, 0)   Log Likelihood                 724.293\n",
      "Method:                Conditional MLE   S.D. of innovations              0.007\n",
      "Date:                 Wed, 30 Mar 2022   AIC                          -1432.586\n",
      "Time:                         09:30:34   BIC                          -1406.080\n",
      "Sample:                              1   HQIC                         -1421.863\n",
      "                                   204                                         \n",
      "===============================================================================\n",
      "                  coef    std err          z      P>|z|      [0.025      0.975]\n",
      "-------------------------------------------------------------------------------\n",
      "const          -0.0846      0.029     -2.886      0.004      -0.142      -0.027\n",
      "lconsumo.L1     0.9060      0.031     29.564      0.000       0.846       0.966\n",
      "ly.L0           0.5835      0.052     11.303      0.000       0.482       0.685\n",
      "ly.L1          -0.4839      0.052     -9.246      0.000      -0.587      -0.381\n",
      "quart_1.L0      0.0006      0.001      0.400      0.690      -0.002       0.003\n",
      "quart_2.L0   2.758e-05      0.001      0.020      0.984      -0.003       0.003\n",
      "quart_3.L0      0.0019      0.001      1.395      0.165      -0.001       0.005\n",
      "===============================================================================\n"
     ]
    }
   ],
   "source": [
    "exog_lags = {\"ly\": [0,1], \"quart_1\": 0, \"quart_2\": 0, 'quart_3':0}\n",
    "exog = df_grenne[[\"ly\", \"quart_1\", \"quart_2\", \"quart_3\"]]\n",
    "ardl = ARDL(df_grenne['lconsumo'], 1, exog, exog_lags, trend='c')\n",
    "print(ardl.fit().summary())"
   ]
  },
  {
   "cell_type": "markdown",
   "id": "5eb1d71f",
   "metadata": {},
   "source": [
    "### ARDL Error Correction Regression\n",
    "- Fixar os estimadores em 4 lags"
   ]
  },
  {
   "cell_type": "code",
   "execution_count": 42,
   "id": "8a15783f",
   "metadata": {},
   "outputs": [],
   "source": [
    "### Diferenciando\n",
    "# Logaritmizando variáveis\n",
    "df_grenne['dlconsumo'] = df_grenne['lconsumo'].diff()\n",
    "df_grenne['dly'] = df_grenne['ly'].diff()"
   ]
  },
  {
   "cell_type": "markdown",
   "id": "fcd1f14e",
   "metadata": {},
   "source": [
    "#### Modelo sem correção"
   ]
  },
  {
   "cell_type": "code",
   "execution_count": 125,
   "id": "48329dfd",
   "metadata": {},
   "outputs": [
    {
     "name": "stderr",
     "output_type": "stream",
     "text": [
      "C:\\Users\\CLIENTE\\anaconda3\\lib\\site-packages\\statsmodels\\tsa\\base\\tsa_model.py:471: ValueWarning: No frequency information was provided, so inferred frequency QS-OCT will be used.\n",
      "  self._init_dates(dates, freq)\n"
     ]
    },
    {
     "name": "stdout",
     "output_type": "stream",
     "text": [
      "                               ARDL Model Results                              \n",
      "===============================================================================\n",
      "Dep. Variable:                lconsumo   No. Observations:                  204\n",
      "Model:             ARDL(4, 4, 0, 0, 0)   Log Likelihood                 754.833\n",
      "Method:                Conditional MLE   S.D. of innovations              0.006\n",
      "Date:                 Wed, 30 Mar 2022   AIC                          -1481.666\n",
      "Time:                         14:48:12   BIC                          -1435.490\n",
      "Sample:                     01-01-1951   HQIC                         -1462.980\n",
      "                          - 10-01-2000                                         \n",
      "===============================================================================\n",
      "                  coef    std err          z      P>|z|      [0.025      0.975]\n",
      "-------------------------------------------------------------------------------\n",
      "const          -0.0767      0.029     -2.671      0.008      -0.133      -0.020\n",
      "lconsumo.L1     0.7860      0.070     11.254      0.000       0.648       0.924\n",
      "lconsumo.L2     0.4048      0.080      5.051      0.000       0.247       0.563\n",
      "lconsumo.L3    -0.1010      0.079     -1.283      0.201      -0.256       0.054\n",
      "lconsumo.L4    -0.1788      0.065     -2.750      0.007      -0.307      -0.051\n",
      "ly.L0           0.5418      0.048     11.257      0.000       0.447       0.637\n",
      "ly.L1          -0.3863      0.077     -4.989      0.000      -0.539      -0.234\n",
      "ly.L2          -0.2556      0.081     -3.140      0.002      -0.416      -0.095\n",
      "ly.L3           0.0631      0.081      0.776      0.439      -0.097       0.224\n",
      "ly.L4           0.1310      0.056      2.359      0.019       0.021       0.240\n",
      "quart_1.L0     -0.0008      0.001     -0.658      0.511      -0.003       0.002\n",
      "quart_2.L0     -0.0011      0.001     -0.929      0.354      -0.003       0.001\n",
      "quart_3.L0      0.0004      0.001      0.360      0.719      -0.002       0.003\n",
      "===============================================================================\n"
     ]
    }
   ],
   "source": [
    "exog_lags = {\"ly\": 4, \"quart_1\": 0, \"quart_2\": 0, 'quart_3':0}\n",
    "exog = df_grenne[[\"ly\", \"quart_1\", \"quart_2\", \"quart_3\"]]\n",
    "ardl = ARDL(df_grenne['lconsumo'], 4, exog, exog_lags, trend='c')\n",
    "fit_ardl = ardl.fit()\n",
    "print(fit_ardl.summary())"
   ]
  },
  {
   "cell_type": "markdown",
   "id": "07a31a57",
   "metadata": {},
   "source": [
    "#### Modelo com correção\n",
    "- No Python somente encontrei a forma de longo prazo do modelo, contudo há formas alternativas de encontrar o coeficiente de integração que é apresentado no eviews."
   ]
  },
  {
   "cell_type": "code",
   "execution_count": 122,
   "id": "ec85da2c",
   "metadata": {},
   "outputs": [
    {
     "name": "stdout",
     "output_type": "stream",
     "text": [
      "                              UECM Model Results                              \n",
      "==============================================================================\n",
      "Dep. Variable:             D.lconsumo   No. Observations:                  204\n",
      "Model:               Seas. UECM(4, 4)   Log Likelihood                 754.833\n",
      "Method:               Conditional MLE   S.D. of innovations              7.905\n",
      "Date:                Wed, 30 Mar 2022   AIC                          -1481.666\n",
      "Time:                        14:41:17   BIC                          -1435.490\n",
      "Sample:                    01-01-1951   HQIC                         -1462.980\n",
      "                         - 10-01-2000                                         \n",
      "=================================================================================\n",
      "                    coef    std err          z      P>|z|      [0.025      0.975]\n",
      "---------------------------------------------------------------------------------\n",
      "const            -0.0775      0.029     -2.697      0.008      -0.134      -0.021\n",
      "s(2,4)           -0.0003      0.001     -0.269      0.788      -0.003       0.002\n",
      "s(3,4)            0.0012      0.001      1.017      0.310      -0.001       0.003\n",
      "s(4,4)            0.0008      0.001      0.658      0.511      -0.002       0.003\n",
      "lconsumo.L1      -0.0889      0.030     -2.972      0.003      -0.148      -0.030\n",
      "ly.L1             0.0939      0.032      2.963      0.003       0.031       0.156\n",
      "D.lconsumo.L1    -0.1251      0.066     -1.884      0.061      -0.256       0.006\n",
      "D.lconsumo.L2     0.2797      0.065      4.282      0.000       0.151       0.409\n",
      "D.lconsumo.L3     0.1788      0.065      2.750      0.007       0.051       0.307\n",
      "D.ly.L0           0.5418      0.048     11.257      0.000       0.447       0.637\n",
      "D.ly.L1           0.0616      0.059      1.050      0.295      -0.054       0.177\n",
      "D.ly.L2          -0.1940      0.059     -3.316      0.001      -0.310      -0.079\n",
      "D.ly.L3          -0.1310      0.056     -2.359      0.019      -0.240      -0.021\n",
      "=================================================================================\n"
     ]
    },
    {
     "name": "stderr",
     "output_type": "stream",
     "text": [
      "C:\\Users\\CLIENTE\\anaconda3\\lib\\site-packages\\statsmodels\\tsa\\base\\tsa_model.py:471: ValueWarning: No frequency information was provided, so inferred frequency QS-OCT will be used.\n",
      "  self._init_dates(dates, freq)\n"
     ]
    }
   ],
   "source": [
    "# Separando variáveis endógenas e exógenas (fixas e não fixas)\n",
    "endog = df_grenne[['lconsumo']]\n",
    "exog_lags = {\"ly\": 4}\n",
    "exog = df_grenne[[\"ly\"]]\n",
    "fixed = df_grenne[[\"quart_1\", \"quart_2\", \"quart_3\"]]\n",
    "\n",
    "# Unconstrained Error Correlation Model(UECM)\n",
    "uecm = UECM(endog=endog, lags=4, exog=exog, order=exog_lags, trend='c', seasonal=True)\n",
    "fit_uecm = uecm.fit()\n",
    "print(fit_uecm.summary())"
   ]
  },
  {
   "cell_type": "markdown",
   "id": "b90ea6f6",
   "metadata": {},
   "source": [
    "#### Encontrando o coeficiente de integração do modelo\n",
    "- Fazer depois"
   ]
  },
  {
   "cell_type": "markdown",
   "id": "ad73f05b",
   "metadata": {},
   "source": [
    "#### Análise gráfica"
   ]
  },
  {
   "cell_type": "code",
   "execution_count": 130,
   "id": "9c3bf527",
   "metadata": {},
   "outputs": [],
   "source": [
    "# Valores estimados\n",
    "predict = fit_ardl.fittedvalues\n",
    "predict = predict.to_frame()\n",
    "predict = predict.rename(columns={0: 'Predicted'})\n",
    "\n",
    "# Datas\n",
    "predict['Date'] = pd.date_range(start='1951-01-01',\n",
    "                                end='2000-10-01',\n",
    "                                freq='3MS')\n",
    "\n",
    "# Selecionando variáveis de interesse\n",
    "lconsumo = df_grenne[['lconsumo']].shift(4).dropna()\n",
    "consumo = df_grenne[['CONSUMO']].shift(4).dropna()\n",
    "\n",
    "# Resíduos\n",
    "resid = fit_ardl.resid\n",
    "resid = resid.to_frame()\n",
    "resid = resid.rename(columns={0: 'Resid'})\n",
    "\n",
    "# Unindo as bases\n",
    "pred_actual = pd.concat([predict, lconsumo, consumo, resid], axis=1)"
   ]
  },
  {
   "cell_type": "code",
   "execution_count": 131,
   "id": "7ed5a45d",
   "metadata": {},
   "outputs": [
    {
     "data": {
      "text/plain": [
       "[Text(0.5, 1.0, 'Actual X Predicted Values'),\n",
       " Text(0, 0.5, 'Indice'),\n",
       " Text(0.5, 0, 'Ano')]"
      ]
     },
     "execution_count": 131,
     "metadata": {},
     "output_type": "execute_result"
    },
    {
     "data": {
      "image/png": "[encoded data removed]",
      "text/plain": [
       "<Figure size 1080x360 with 1 Axes>"
      ]
     },
     "metadata": {
      "needs_background": "light"
     },
     "output_type": "display_data"
    }
   ],
   "source": [
    "# Gráfico\n",
    "fig, ax = plt.subplots(figsize = (15,5)) \n",
    "\n",
    "ax.plot(pred_actual['Date'], pred_actual['lconsumo'], label='Actual')\n",
    "ax.plot(pred_actual['Date'], pred_actual['Predicted'], label='Predicted')\n",
    "ax.legend()\n",
    "ax.set(title='Actual X Predicted Values', ylabel='Indice', xlabel='Ano')"
   ]
  },
  {
   "cell_type": "code",
   "execution_count": 133,
   "id": "701ec9d0",
   "metadata": {},
   "outputs": [
    {
     "data": {
      "text/plain": [
       "[Text(0.5, 1.0, 'Residuals'), Text(0, 0.5, ''), Text(0.5, 0, 'Ano')]"
      ]
     },
     "execution_count": 133,
     "metadata": {},
     "output_type": "execute_result"
    },
    {
     "data": {
      "image/png": "[encoded data removed]",
      "text/plain": [
       "<Figure size 1080x360 with 1 Axes>"
      ]
     },
     "metadata": {
      "needs_background": "light"
     },
     "output_type": "display_data"
    }
   ],
   "source": [
    "# array somente com zeros (estética)\n",
    "zarray = np.zeros(200)\n",
    "\n",
    "# Gráfico\n",
    "fig, ax = plt.subplots(figsize = (15,5)) \n",
    "\n",
    "ax.plot(pred_actual['Date'], pred_actual['Resid'], label='Residuals')\n",
    "ax.plot(pred_actual['Date'], zarray, color = 'gray')\n",
    "ax.legend()\n",
    "ax.set(title='Residuals', ylabel='', xlabel='Ano')"
   ]
  },
  {
   "cell_type": "code",
   "execution_count": null,
   "id": "5fb95265",
   "metadata": {},
   "outputs": [],
   "source": []
  }
 ],
 "metadata": {
  "kernelspec": {
   "display_name": "Python 3 (ipykernel)",
   "language": "python",
   "name": "python3"
  },
  "language_info": {
   "codemirror_mode": {
    "name": "ipython",
    "version": 3
   },
   "file_extension": ".py",
   "mimetype": "text/x-python",
   "name": "python",
   "nbconvert_exporter": "python",
   "pygments_lexer": "ipython3",
   "version": "3.9.7"
  }
 },
 "nbformat": 4,
 "nbformat_minor": 5
}
