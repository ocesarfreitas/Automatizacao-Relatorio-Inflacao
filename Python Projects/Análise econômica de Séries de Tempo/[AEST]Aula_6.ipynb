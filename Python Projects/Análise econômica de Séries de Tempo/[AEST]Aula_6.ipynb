{
 "cells": [
  {
   "cell_type": "markdown",
   "id": "3cf1ef6b",
   "metadata": {},
   "source": [
    "# Análise de Séries Temporais\n",
    "## Aula 6"
   ]
  },
  {
   "cell_type": "code",
   "execution_count": 39,
   "id": "900db960",
   "metadata": {},
   "outputs": [],
   "source": [
    "## Pacotes\n",
    "# \n",
    "import pandas as pd\n",
    "import numpy as np\n",
    "import matplotlib.pyplot as plt\n",
    "import statsmodels.api as sm\n",
    "\n",
    "# \n",
    "from econometric_functions import ols_reg\n",
    "from statsmodels.tsa.stattools import acf, pacf\n",
    "from statsmodels.graphics.tsaplots import plot_acf, plot_pacf\n",
    "from statsmodels.tsa.arima.model import ARIMA\n",
    "#from statsmodels.stats.diagnostic import breaks_cusumolsresid\n",
    "from statsmodels.regression.recursive_ls import RecursiveLS\n",
    "\n",
    "# General\n",
    "from IPython.display import clear_output\n",
    "import warnings\n",
    "\n",
    "warnings.filterwarnings(\"ignore\", category=RuntimeWarning)\n",
    "\n",
    "import plotly.graph_objects as go"
   ]
  },
  {
   "cell_type": "code",
   "execution_count": 4,
   "id": "9539bae4",
   "metadata": {},
   "outputs": [],
   "source": [
    "## Quartely\n",
    "df_quart = pd.read_csv(\"quarterly.csv\")\n",
    "df_quart_s = df_quart[['S']]\n",
    "\n",
    "# Filtrando \n",
    "df_quart_f = df_quart[df_quart['Date'] <= '2012-10-01']\n",
    "\n",
    "#\n",
    "df_quart_f_s = df_quart_f[['S']]\n",
    "\n",
    "#\n",
    "array_quart_s = np.array(df_quart_f_s) "
   ]
  },
  {
   "cell_type": "markdown",
   "id": "604187c6",
   "metadata": {},
   "source": [
    "## ARMA vs OLS\n",
    "\n",
    "A estimação via ARMA (Máxima Verossimilhança) e via OLS(Mínimos quadrados) apersar de serem bem similares possuem estimadores diferentes. Observando os dois modelos estimados abaixo, percebe-se que não são significantes diferente do modelo com os autorregressores, o via OLS não possui os coeficientes de $S_{-5}$ e $S_{-7}$ significantes a 5\\%."
   ]
  },
  {
   "cell_type": "code",
   "execution_count": 5,
   "id": "ac01990a",
   "metadata": {},
   "outputs": [
    {
     "name": "stdout",
     "output_type": "stream",
     "text": [
      "                               SARIMAX Results                                \n",
      "==============================================================================\n",
      "Dep. Variable:                      y   No. Observations:                  212\n",
      "Model:                 ARIMA(9, 0, 0)   Log Likelihood                -132.338\n",
      "Date:                Mon, 28 Mar 2022   AIC                            286.675\n",
      "Time:                        08:24:26   BIC                            323.598\n",
      "Sample:                             0   HQIC                           301.598\n",
      "                                - 212                                         \n",
      "Covariance Type:                  opg                                         \n",
      "==============================================================================\n",
      "                 coef    std err          z      P>|z|      [0.025      0.975]\n",
      "------------------------------------------------------------------------------\n",
      "const          1.1998      0.163      7.378      0.000       0.881       1.519\n",
      "ar.L1          1.1059      0.070     15.817      0.000       0.969       1.243\n",
      "ar.L2         -0.4192      0.106     -3.963      0.000      -0.627      -0.212\n",
      "ar.L3          0.3355      0.096      3.495      0.000       0.147       0.524\n",
      "ar.L4         -0.2493      0.081     -3.065      0.002      -0.409      -0.090\n",
      "ar.L5          0.1609      0.091      1.760      0.078      -0.018       0.340\n",
      "ar.L6         -0.2208      0.103     -2.134      0.033      -0.424      -0.018\n",
      "ar.L7          0.0461      0.086      0.536      0.592      -0.122       0.215\n",
      "ar.L8          0.2023      0.074      2.745      0.006       0.058       0.347\n",
      "ar.L9         -0.1740      0.059     -2.926      0.003      -0.291      -0.057\n",
      "sigma2         0.2020      0.016     12.834      0.000       0.171       0.233\n",
      "===================================================================================\n",
      "Ljung-Box (L1) (Q):                   0.08   Jarque-Bera (JB):               132.09\n",
      "Prob(Q):                              0.78   Prob(JB):                         0.00\n",
      "Heteroskedasticity (H):               1.36   Skew:                             0.04\n",
      "Prob(H) (two-sided):                  0.20   Kurtosis:                         6.87\n",
      "===================================================================================\n",
      "\n",
      "Warnings:\n",
      "[1] Covariance matrix calculated using the outer product of gradients (complex-step).\n"
     ]
    }
   ],
   "source": [
    "# Lista com as variáveis AR (autorregressores) e MA (Média Móvel)\n",
    "lista_ar = list(range(1,10))\n",
    "lista_ma = 0\n",
    "\n",
    "# Modelo autorregressivo 1\n",
    "\n",
    "arma_mod = ARIMA(array_quart_s, order = (lista_ar,0,lista_ma), trend = 'c')\n",
    "model = arma_mod.fit()\n",
    "print(model.summary())"
   ]
  },
  {
   "cell_type": "code",
   "execution_count": 6,
   "id": "5685e7b9",
   "metadata": {},
   "outputs": [],
   "source": [
    "#\n",
    "variables_to_keep = ['Date', 'S', 'D_S']\n",
    "my_data = df_quart_f[variables_to_keep]\n",
    "\n",
    "my_data.index = pd.DatetimeIndex(my_data.Date)\n",
    "my_data = my_data[['S', 'D_S']]\n",
    "\n",
    "#\n",
    "for i in range(1,10):\n",
    "    globals()[f\"s_lag_{i}\"] = my_data[['S']].shift(i)\n",
    "    pdList = []\n",
    "    pdList.extend(value for name,\n",
    "                  value in locals().items() if name.startswith('s_lag_'))\n",
    "    df_merged = pd.concat(pdList, axis = 1)\n",
    "    \n",
    "for j in  range(0,9):\n",
    "    newcolumns = df_merged.columns.values\n",
    "    newcolumns[j] = f\"s_lag_{j+1}\"\n",
    "\n",
    "#\n",
    "my_data = pd.merge(my_data, df_merged, on='Date', how='right', copy=False,\n",
    "                   sort=False, suffixes=('','')) "
   ]
  },
  {
   "cell_type": "code",
   "execution_count": 7,
   "id": "b2b84c15",
   "metadata": {},
   "outputs": [
    {
     "name": "stdout",
     "output_type": "stream",
     "text": [
      "                            OLS Regression Results                            \n",
      "==============================================================================\n",
      "Dep. Variable:                      S   R-squared:                       0.779\n",
      "Model:                            OLS   Adj. R-squared:                  0.768\n",
      "Method:                 Least Squares   F-statistic:                     75.50\n",
      "Date:                Mon, 28 Mar 2022   Prob (F-statistic):           2.06e-58\n",
      "Time:                        08:24:31   Log-Likelihood:                -129.12\n",
      "No. Observations:                 203   AIC:                             278.2\n",
      "Df Residuals:                     193   BIC:                             311.4\n",
      "Df Model:                           9                                         \n",
      "Covariance Type:            nonrobust                                         \n",
      "==============================================================================\n",
      "                 coef    std err          t      P>|t|      [0.025      0.975]\n",
      "------------------------------------------------------------------------------\n",
      "Intercept      0.2550      0.067      3.779      0.000       0.122       0.388\n",
      "s_lag_1        1.1127      0.071     15.716      0.000       0.973       1.252\n",
      "s_lag_2       -0.4244      0.106     -4.010      0.000      -0.633      -0.216\n",
      "s_lag_3        0.3399      0.110      3.087      0.002       0.123       0.557\n",
      "s_lag_4       -0.2535      0.112     -2.271      0.024      -0.474      -0.033\n",
      "s_lag_5        0.1621      0.112      1.442      0.151      -0.060       0.384\n",
      "s_lag_6       -0.2228      0.112     -1.997      0.047      -0.443      -0.003\n",
      "s_lag_7        0.0483      0.110      0.439      0.661      -0.169       0.265\n",
      "s_lag_8        0.2061      0.106      1.945      0.053      -0.003       0.415\n",
      "s_lag_9       -0.1797      0.071     -2.530      0.012      -0.320      -0.040\n",
      "==============================================================================\n",
      "Omnibus:                       23.510   Durbin-Watson:                   2.044\n",
      "Prob(Omnibus):                  0.000   Jarque-Bera (JB):              115.423\n",
      "Skew:                           0.032   Prob(JB):                     8.64e-26\n",
      "Kurtosis:                       6.693   Cond. No.                         28.0\n",
      "==============================================================================\n",
      "\n",
      "Notes:\n",
      "[1] Standard Errors assume that the covariance matrix of the errors is correctly specified.\n"
     ]
    }
   ],
   "source": [
    "mod_lag = ols_reg('S ~ s_lag_1+s_lag_2+s_lag_3+s_lag_4+s_lag_5+s_lag_6+s_lag_7+s_lag_8+s_lag_9', my_data)"
   ]
  },
  {
   "cell_type": "markdown",
   "id": "2b1a7a01",
   "metadata": {},
   "source": [
    "Modelo não é estivável por OLS, porque para estimar o MA acima é necessário ter a variável dependente e os regressores, e como em OLS conhecemos os regressores depois, portanto não é aplicável em OLS.\n",
    "\n",
    "$$ y_t= E_t +\\beta E_{t-1} \\rightarrow MA(1)$$\n",
    "\n",
    "Portanto, não existe estimação de MA em OLS, contudo há formas recursivas de obter esses valores.\n",
    "$$OLS \\rightarrow \\hat{E_{t}}$$\n",
    "\n",
    "$$ y_{t} = \\hat{E}_{t} + \\beta \\hat{E}_{t-1} + u_t $$\n",
    "\n",
    "AR(1) $\\rightarrow$ ARMA\n",
    "$$ y_{t} = \\rho_0 + \\rho_1y_{t-1}+E_t $$\n",
    "de modo que\n",
    "$$ y_{t-1} = \\rho_0 + \\rho_1y_{t-2}+E_{t-1} $$\n",
    "\n",
    "Obs.:\n",
    "- Para este caso, a estimação por OLS não é eficiente;\n",
    "- Utilizar a estimação via OLS apenas quando não for possível realizar certo testes, como o de CUSUM."
   ]
  },
  {
   "cell_type": "markdown",
   "id": "7e6589d1",
   "metadata": {},
   "source": [
    "## Teste de CUSUM"
   ]
  },
  {
   "cell_type": "code",
   "execution_count": 8,
   "id": "3bbbac19",
   "metadata": {},
   "outputs": [
    {
     "name": "stdout",
     "output_type": "stream",
     "text": [
      "                           Statespace Model Results                           \n",
      "==============================================================================\n",
      "Dep. Variable:                      S   No. Observations:                  203\n",
      "Model:                    RecursiveLS   Log Likelihood                -157.422\n",
      "Date:                Mon, 28 Mar 2022   R-squared:                       0.779\n",
      "Time:                        08:24:36   AIC                            334.843\n",
      "Sample:                    04-01-1962   BIC                            367.976\n",
      "                         - 10-01-2012   HQIC                           348.247\n",
      "Covariance Type:            nonrobust   Scale                            0.220\n",
      "==============================================================================\n",
      "                 coef    std err          z      P>|z|      [0.025      0.975]\n",
      "------------------------------------------------------------------------------\n",
      "const          0.2550      0.067      3.779      0.000       0.123       0.387\n",
      "s_lag_1        1.1127      0.071     15.716      0.000       0.974       1.251\n",
      "s_lag_2       -0.4244      0.106     -4.010      0.000      -0.632      -0.217\n",
      "s_lag_3        0.3399      0.110      3.087      0.002       0.124       0.556\n",
      "s_lag_4       -0.2535      0.112     -2.271      0.023      -0.472      -0.035\n",
      "s_lag_5        0.1621      0.112      1.442      0.149      -0.058       0.382\n",
      "s_lag_6       -0.2228      0.112     -1.997      0.046      -0.441      -0.004\n",
      "s_lag_7        0.0483      0.110      0.439      0.660      -0.167       0.264\n",
      "s_lag_8        0.2061      0.106      1.945      0.052      -0.002       0.414\n",
      "s_lag_9       -0.1797      0.071     -2.530      0.011      -0.319      -0.040\n",
      "===================================================================================\n",
      "Ljung-Box (L1) (Q):                   1.96   Jarque-Bera (JB):                34.35\n",
      "Prob(Q):                              0.16   Prob(JB):                         0.00\n",
      "Heteroskedasticity (H):               1.17   Skew:                             0.04\n",
      "Prob(H) (two-sided):                  0.54   Kurtosis:                         5.07\n",
      "===================================================================================\n",
      "\n",
      "Warnings:\n",
      "[1] Parameters and covariance matrix estimates are RLS estimates conditional on the entire sample.\n"
     ]
    },
    {
     "name": "stderr",
     "output_type": "stream",
     "text": [
      "C:\\Users\\CLIENTE\\anaconda3\\lib\\site-packages\\statsmodels\\tsa\\tsatools.py:142: FutureWarning: In a future version of pandas all arguments of concat except for the argument 'objs' will be keyword-only.\n",
      "  x = pd.concat(x[::order], 1)\n",
      "C:\\Users\\CLIENTE\\anaconda3\\lib\\site-packages\\statsmodels\\tsa\\base\\tsa_model.py:524: ValueWarning: No frequency information was provided, so inferred frequency QS-OCT will be used.\n",
      "  warnings.warn('No frequency information was'\n"
     ]
    }
   ],
   "source": [
    "my_data = my_data.dropna()\n",
    "\n",
    "#\n",
    "endog = my_data[['S']]\n",
    "variables = ['s_lag_1', 's_lag_2', 's_lag_3', 's_lag_4', 's_lag_5', 's_lag_6', 's_lag_7', 's_lag_8', 's_lag_9']\n",
    "exog = sm.add_constant(my_data[variables])\n",
    "\n",
    "#\n",
    "mod_break = RecursiveLS(endog=endog, exog=exog)\n",
    "mod_break = mod_break.fit()\n",
    "print(mod_break.summary())"
   ]
  },
  {
   "cell_type": "markdown",
   "id": "8cf56da3",
   "metadata": {},
   "source": [
    "Com base no teste de CUSUM abaixo, não foi possível rejeitar a hipótese nula de que não há quebra estrutural no modelo."
   ]
  },
  {
   "cell_type": "code",
   "execution_count": 9,
   "id": "20c528e9",
   "metadata": {},
   "outputs": [
    {
     "data": {
      "image/png": "[encoded data removed]",
      "text/plain": [
       "<Figure size 576x288 with 1 Axes>"
      ]
     },
     "execution_count": 9,
     "metadata": {},
     "output_type": "execute_result"
    },
    {
     "data": {
      "image/png": "[encoded data removed]",
      "text/plain": [
       "<Figure size 576x288 with 1 Axes>"
      ]
     },
     "metadata": {
      "needs_background": "light"
     },
     "output_type": "display_data"
    }
   ],
   "source": [
    "mod_break.plot_cusum(figsize=(8,4))"
   ]
  },
  {
   "cell_type": "markdown",
   "id": "d840f240",
   "metadata": {},
   "source": [
    "## Previsões\n",
    "### Modelo"
   ]
  },
  {
   "cell_type": "code",
   "execution_count": 10,
   "id": "0ecc0aa6",
   "metadata": {},
   "outputs": [
    {
     "name": "stdout",
     "output_type": "stream",
     "text": [
      "                                 SARIMAX Results                                  \n",
      "==================================================================================\n",
      "Dep. Variable:                          y   No. Observations:                  212\n",
      "Model:             ARIMA(1, 0, [1, 2, 7])   Log Likelihood                -137.295\n",
      "Date:                    Mon, 28 Mar 2022   AIC                            286.591\n",
      "Time:                            08:24:51   BIC                            306.730\n",
      "Sample:                                 0   HQIC                           294.731\n",
      "                                    - 212                                         \n",
      "Covariance Type:                      opg                                         \n",
      "==============================================================================\n",
      "                 coef    std err          z      P>|z|      [0.025      0.975]\n",
      "------------------------------------------------------------------------------\n",
      "const          1.1946      0.198      6.034      0.000       0.807       1.583\n",
      "ar.L1          0.8375      0.049     17.163      0.000       0.742       0.933\n",
      "ma.L1          0.3118      0.083      3.754      0.000       0.149       0.475\n",
      "ma.L2         -0.1792      0.083     -2.151      0.031      -0.343      -0.016\n",
      "ma.L7         -0.1783      0.046     -3.913      0.000      -0.268      -0.089\n",
      "sigma2         0.2119      0.016     13.086      0.000       0.180       0.244\n",
      "===================================================================================\n",
      "Ljung-Box (L1) (Q):                   0.19   Jarque-Bera (JB):               108.06\n",
      "Prob(Q):                              0.67   Prob(JB):                         0.00\n",
      "Heteroskedasticity (H):               1.36   Skew:                            -0.07\n",
      "Prob(H) (two-sided):                  0.19   Kurtosis:                         6.49\n",
      "===================================================================================\n",
      "\n",
      "Warnings:\n",
      "[1] Covariance matrix calculated using the outer product of gradients (complex-step).\n"
     ]
    }
   ],
   "source": [
    "# Modelo utilizado em sala\n",
    "lista_ar = [1]\n",
    "lista_ma = [1,2,7]\n",
    "\n",
    "# Modelo acima com o intercepto\n",
    "arma_mod = ARIMA(array_quart_s, order = (lista_ar,0,lista_ma), trend = 'c')\n",
    "mod_arima = arma_mod.fit()\n",
    "print(mod_arima.summary())"
   ]
  },
  {
   "cell_type": "code",
   "execution_count": 11,
   "id": "c790daa1",
   "metadata": {},
   "outputs": [
    {
     "name": "stderr",
     "output_type": "stream",
     "text": [
      "C:\\Users\\CLIENTE\\anaconda3\\lib\\site-packages\\statsmodels\\graphics\\gofplots.py:993: UserWarning: marker is redundantly defined by the 'marker' keyword argument and the fmt string \"bo\" (-> marker='o'). The keyword argument will take precedence.\n",
      "  ax.plot(x, y, fmt, **plot_style)\n"
     ]
    },
    {
     "data": {
      "image/png": "[encoded data removed]",
      "text/plain": [
       "<Figure size 720x720 with 4 Axes>"
      ]
     },
     "metadata": {
      "needs_background": "light"
     },
     "output_type": "display_data"
    }
   ],
   "source": [
    "# Plots\n",
    "mod_arima.plot_diagnostics(figsize=(10, 10))\n",
    "plt.show()\n",
    "\n",
    "# ACF e PACF dos resíduos \n",
    "#res_acf = acf(mod_arima.resid, nlags = 12, qstat = True)\n",
    "#res_pacf = pacf(mod_arima.resid, nlags = 12, method = \"ywm\")"
   ]
  },
  {
   "cell_type": "markdown",
   "id": "ce5ad7fc",
   "metadata": {},
   "source": [
    "### Estimando previsões"
   ]
  },
  {
   "cell_type": "code",
   "execution_count": 12,
   "id": "8fa98249",
   "metadata": {},
   "outputs": [
    {
     "data": {
      "text/plain": [
       "[Text(0.5, 1.0, 'Predicted Values'),\n",
       " Text(0, 0.5, 'Indice'),\n",
       " Text(0.5, 0, 'Ano')]"
      ]
     },
     "execution_count": 12,
     "metadata": {},
     "output_type": "execute_result"
    },
    {
     "data": {
      "image/png": "[encoded data removed]",
      "text/plain": [
       "<Figure size 1440x360 with 1 Axes>"
      ]
     },
     "metadata": {
      "needs_background": "light"
     },
     "output_type": "display_data"
    }
   ],
   "source": [
    "# Predict: Dynamic False\n",
    "predict_results = mod_arima.get_prediction(start = 0,\n",
    "                                           end = 215)\n",
    "\n",
    "# DF com os valores previstos + IC\n",
    "pred_summary = predict_results.summary_frame()\n",
    "pred_summary['Date'] = pd.date_range(start='1960-01-01',\n",
    "                                     end='2013-10-01',\n",
    "                                     freq='3MS')\n",
    "\n",
    "# Gráfico\n",
    "fig, ax = plt.subplots(figsize = (20,5)) \n",
    "\n",
    "ax.plot(pred_summary['Date'], pred_summary['mean'])\n",
    "ax.plot(pred_summary['Date'], pred_summary['mean_ci_upper'],\n",
    "        color = 'orange', linestyle='dashed')\n",
    "ax.plot(pred_summary['Date'], pred_summary['mean_ci_lower'],\n",
    "        color = 'orange', linestyle='dashed')\n",
    "ax.set(title='Predicted Values', ylabel='Indice', xlabel='Ano')"
   ]
  },
  {
   "cell_type": "markdown",
   "id": "cf802bf1",
   "metadata": {},
   "source": [
    "Se o método de previsão for dinâmico (`dynamic=True`) teremos que a curva de previsões convergirá para a média de longo prazo série, porque diferente de quando o modelo for estático (`dynamic=False`) ele utilizará os valores previstos da série não os valores observados. Logo, como esses resultados \"não possuem erro\" ~alguma coisa~."
   ]
  },
  {
   "cell_type": "code",
   "execution_count": null,
   "id": "5daab0ab",
   "metadata": {},
   "outputs": [],
   "source": [
    "# Predict: Dynamic True\n",
    "# Problemática\n",
    "predict_results = mod_arima.get_prediction(start = 7, # O valor do start deve estar de acordo com o valor do MA()\n",
    "                                           end = 215,\n",
    "                                           dynamic=True)\n",
    "# DF com os valores previstos + IC\n",
    "pred_summary = predict_results.summary_frame()\n",
    "pred_summary['Date'] = pd.date_range(start='1961-10-01', # O mesmo vale para este start\n",
    "                                     end='2013-10-01',\n",
    "                                     freq='3MS')\n",
    "# Gráfico \n",
    "fig, ax = plt.subplots(figsize = (20,5)) \n",
    "\n",
    "ax.plot(pred_summary['Date'], pred_summary['mean'])\n",
    "ax.plot(pred_summary['Date'], pred_summary['mean_ci_upper'],\n",
    "        color = 'orange', linestyle='dashed')\n",
    "ax.plot(pred_summary['Date'], pred_summary['mean_ci_lower'],\n",
    "        color = 'orange', linestyle='dashed')\n",
    "ax.set(title='Predicted Values', ylabel='Indice', xlabel='Ano')\n"
   ]
  },
  {
   "cell_type": "markdown",
   "id": "f200b8d2",
   "metadata": {},
   "source": [
    "## Exemplo Aula: Produção Industrial EUA\n"
   ]
  },
  {
   "cell_type": "code",
   "execution_count": 72,
   "id": "5e41d134",
   "metadata": {},
   "outputs": [],
   "source": [
    "# Filtrando \n",
    "df_quart_f = df_quart[df_quart['Date'] <= '2012-10-01']\n",
    "\n",
    "# Selecionando variável de interesse\n",
    "df_ppinsa = df_quart_f[['PPINSA']]\n",
    "\n",
    "# Diferenciando variável de interesse\n",
    "df_ppinsa_diff = df_ppinsa.diff().dropna()"
   ]
  },
  {
   "cell_type": "markdown",
   "id": "aae49a37",
   "metadata": {},
   "source": [
    "Perceptível que a série possue raiz unitária "
   ]
  },
  {
   "cell_type": "code",
   "execution_count": 76,
   "id": "4aa9a13b",
   "metadata": {},
   "outputs": [
    {
     "data": {
      "image/png": "[encoded data removed]",
      "text/plain": [
       "<Figure size 1600x300 with 2 Axes>"
      ]
     },
     "execution_count": 76,
     "metadata": {},
     "output_type": "execute_result"
    },
    {
     "data": {
      "image/png": "[encoded data removed]",
      "text/plain": [
       "<Figure size 1600x300 with 2 Axes>"
      ]
     },
     "metadata": {
      "needs_background": "light"
     },
     "output_type": "display_data"
    }
   ],
   "source": [
    "fig, axes = plt.subplots(1,2, figsize=(16,3), dpi= 100)\n",
    "\n",
    "plot_acf(df_ppinsa, lags=36, ax=axes[0])\n",
    "plot_pacf(df_ppinsa, lags=36, ax=axes[1])"
   ]
  },
  {
   "cell_type": "code",
   "execution_count": 67,
   "id": "8348007b",
   "metadata": {},
   "outputs": [
    {
     "data": {
      "application/vnd.plotly.v1+json": {
       "config": {
        "plotlyServerURL": "https://plot.ly"
       },
       "data": [
        {
         "cells": {
          "align": [
           "left",
           "center"
          ],
          "fill": {
           "color": [
            [
             "white",
             "lightgrey",
             "white",
             "lightgrey",
             "white",
             "lightgrey",
             "white",
             "lightgrey",
             "white",
             "lightgrey",
             "white",
             "lightgrey",
             "white",
             "lightgrey",
             "white",
             "lightgrey",
             "white",
             "lightgrey",
             "white",
             "lightgrey",
             "white",
             "lightgrey",
             "white",
             "lightgrey",
             "white",
             "lightgrey",
             "white",
             "lightgrey",
             "white",
             "lightgrey",
             "white",
             "lightgrey",
             "white",
             "lightgrey",
             "white",
             "lightgrey"
            ]
           ]
          },
          "font": {
           "color": "darkslategray",
           "size": 12
          },
          "values": [
           [
            1,
            2,
            3,
            4,
            5,
            6,
            7,
            8,
            9,
            10,
            11,
            12,
            13,
            14,
            15,
            16,
            17,
            18,
            19,
            20,
            21,
            22,
            23,
            24,
            25,
            26,
            27,
            28,
            29,
            30,
            31,
            32,
            33,
            34,
            35,
            36
           ],
           [
            0.9844535604120869,
            0.9677468226251941,
            0.9512346385644459,
            0.9346531759916324,
            0.9181739011480952,
            0.900842393037653,
            0.8833201462784784,
            0.8670212422450138,
            0.8519966909989296,
            0.8376918165352987,
            0.8233783872073387,
            0.8086611018412079,
            0.7943742640908384,
            0.7804929336556048,
            0.7668607323429902,
            0.7532842547258919,
            0.7377851836209052,
            0.7175923253120055,
            0.69815046629953,
            0.6808334212246393,
            0.6644766698446231,
            0.6484728482264792,
            0.6321965228194791,
            0.616982577274524,
            0.6021788584780274,
            0.5867267181459114,
            0.5715296321515174,
            0.5566541142092891,
            0.540989169823999,
            0.5259098590788447,
            0.5113082271830796,
            0.49696521773289093,
            0.48276883919993013,
            0.46904261246500567,
            0.45553682598741213,
            0.4427239009606268
           ],
           [
            0.9844535604120869,
            -0.04544363122975066,
            -0.0007877062641222312,
            -0.011231327171545034,
            -0.005017292119389743,
            -0.03656622432866503,
            -0.01320982181195196,
            0.030453063480987714,
            0.029897156761447864,
            0.012710430672864096,
            -0.008728402376099384,
            -0.02039291398474809,
            0.004790168854693488,
            0.0015948368032648562,
            -0.0005154321892270038,
            -0.0038337487608661545,
            -0.06673025151288552,
            -0.15720408334609998,
            0.020693410963791993,
            0.056403992861644624,
            0.020430358113028305,
            0.004428681511986396,
            -0.010348439828859746,
            0.021204829585591282,
            -0.0176395878301626,
            -0.04498863074685065,
            0.0006812365579517028,
            0.011443385076886954,
            -0.03148239753669639,
            0.0043166634492805825,
            0.0043161599194702985,
            0.000489399008772152,
            -0.0026480234054010628,
            0.025325372449290465,
            0.017798818799379664,
            -0.0028409245978085187
           ],
           [
            208.3807740777313,
            410.7077767035703,
            607.1245901602977,
            797.6650774029035,
            982.4341064503425,
            1161.1569415547685,
            1333.8329673396795,
            1501.0108970444905,
            1663.2402411987405,
            1820.8440868735513,
            1973.8656038278925,
            2122.2037151057166,
            2266.065978566708,
            2405.6457217467887,
            2541.076198738195,
            2672.420532701385,
            2799.0616932156045,
            2919.4830385707005,
            3034.058176865125,
            3143.587433124522,
            3248.4633429497862,
            3348.8739578905847,
            3444.8122616742985,
            3536.6746189613045,
            3624.6495704204576,
            3708.6165286643263,
            3788.7207513213175,
            3865.122387236701,
            3937.6787805685894,
            4006.6234781984213,
            4072.1529430011938,
            4134.401475406769,
            4193.472576196623,
            4249.545633003753,
            4302.734819843971,
            4353.2594221178015
           ],
           [
            3.0984277400689655e-47,
            6.5454491222942715e-90,
            2.8764900561398495e-131,
            2.4609759692472094e-171,
            3.817190406468106e-210,
            1.2194437165529565e-247,
            7.981458756889363e-284,
            0,
            0,
            0,
            0,
            0,
            0,
            0,
            0,
            0,
            0,
            0,
            0,
            0,
            0,
            0,
            0,
            0,
            0,
            0,
            0,
            0,
            0,
            0,
            0,
            0,
            0,
            0,
            0,
            0
           ]
          ]
         },
         "header": {
          "align": [
           "left",
           "center"
          ],
          "fill": {
           "color": "grey"
          },
          "font": {
           "color": "white",
           "size": 12
          },
          "line": {
           "color": "darkslategray"
          },
          "values": [
           "n",
           "AC",
           "PAC",
           "Q-Stat",
           "Prob"
          ]
         },
         "type": "table"
        }
       ],
       "layout": {
        "template": {
         "data": {
          "bar": [
           {
            "error_x": {
             "color": "#2a3f5f"
            },
            "error_y": {
             "color": "#2a3f5f"
            },
            "marker": {
             "line": {
              "color": "#E5ECF6",
              "width": 0.5
             },
             "pattern": {
              "fillmode": "overlay",
              "size": 10,
              "solidity": 0.2
             }
            },
            "type": "bar"
           }
          ],
          "barpolar": [
           {
            "marker": {
             "line": {
              "color": "#E5ECF6",
              "width": 0.5
             },
             "pattern": {
              "fillmode": "overlay",
              "size": 10,
              "solidity": 0.2
             }
            },
            "type": "barpolar"
           }
          ],
          "carpet": [
           {
            "aaxis": {
             "endlinecolor": "#2a3f5f",
             "gridcolor": "white",
             "linecolor": "white",
             "minorgridcolor": "white",
             "startlinecolor": "#2a3f5f"
            },
            "baxis": {
             "endlinecolor": "#2a3f5f",
             "gridcolor": "white",
             "linecolor": "white",
             "minorgridcolor": "white",
             "startlinecolor": "#2a3f5f"
            },
            "type": "carpet"
           }
          ],
          "choropleth": [
           {
            "colorbar": {
             "outlinewidth": 0,
             "ticks": ""
            },
            "type": "choropleth"
           }
          ],
          "contour": [
           {
            "colorbar": {
             "outlinewidth": 0,
             "ticks": ""
            },
            "colorscale": [
             [
              0,
              "#0d0887"
             ],
             [
              0.1111111111111111,
              "#46039f"
             ],
             [
              0.2222222222222222,
              "#7201a8"
             ],
             [
              0.3333333333333333,
              "#9c179e"
             ],
             [
              0.4444444444444444,
              "#bd3786"
             ],
             [
              0.5555555555555556,
              "#d8576b"
             ],
             [
              0.6666666666666666,
              "#ed7953"
             ],
             [
              0.7777777777777778,
              "#fb9f3a"
             ],
             [
              0.8888888888888888,
              "#fdca26"
             ],
             [
              1,
              "#f0f921"
             ]
            ],
            "type": "contour"
           }
          ],
          "contourcarpet": [
           {
            "colorbar": {
             "outlinewidth": 0,
             "ticks": ""
            },
            "type": "contourcarpet"
           }
          ],
          "heatmap": [
           {
            "colorbar": {
             "outlinewidth": 0,
             "ticks": ""
            },
            "colorscale": [
             [
              0,
              "#0d0887"
             ],
             [
              0.1111111111111111,
              "#46039f"
             ],
             [
              0.2222222222222222,
              "#7201a8"
             ],
             [
              0.3333333333333333,
              "#9c179e"
             ],
             [
              0.4444444444444444,
              "#bd3786"
             ],
             [
              0.5555555555555556,
              "#d8576b"
             ],
             [
              0.6666666666666666,
              "#ed7953"
             ],
             [
              0.7777777777777778,
              "#fb9f3a"
             ],
             [
              0.8888888888888888,
              "#fdca26"
             ],
             [
              1,
              "#f0f921"
             ]
            ],
            "type": "heatmap"
           }
          ],
          "heatmapgl": [
           {
            "colorbar": {
             "outlinewidth": 0,
             "ticks": ""
            },
            "colorscale": [
             [
              0,
              "#0d0887"
             ],
             [
              0.1111111111111111,
              "#46039f"
             ],
             [
              0.2222222222222222,
              "#7201a8"
             ],
             [
              0.3333333333333333,
              "#9c179e"
             ],
             [
              0.4444444444444444,
              "#bd3786"
             ],
             [
              0.5555555555555556,
              "#d8576b"
             ],
             [
              0.6666666666666666,
              "#ed7953"
             ],
             [
              0.7777777777777778,
              "#fb9f3a"
             ],
             [
              0.8888888888888888,
              "#fdca26"
             ],
             [
              1,
              "#f0f921"
             ]
            ],
            "type": "heatmapgl"
           }
          ],
          "histogram": [
           {
            "marker": {
             "pattern": {
              "fillmode": "overlay",
              "size": 10,
              "solidity": 0.2
             }
            },
            "type": "histogram"
           }
          ],
          "histogram2d": [
           {
            "colorbar": {
             "outlinewidth": 0,
             "ticks": ""
            },
            "colorscale": [
             [
              0,
              "#0d0887"
             ],
             [
              0.1111111111111111,
              "#46039f"
             ],
             [
              0.2222222222222222,
              "#7201a8"
             ],
             [
              0.3333333333333333,
              "#9c179e"
             ],
             [
              0.4444444444444444,
              "#bd3786"
             ],
             [
              0.5555555555555556,
              "#d8576b"
             ],
             [
              0.6666666666666666,
              "#ed7953"
             ],
             [
              0.7777777777777778,
              "#fb9f3a"
             ],
             [
              0.8888888888888888,
              "#fdca26"
             ],
             [
              1,
              "#f0f921"
             ]
            ],
            "type": "histogram2d"
           }
          ],
          "histogram2dcontour": [
           {
            "colorbar": {
             "outlinewidth": 0,
             "ticks": ""
            },
            "colorscale": [
             [
              0,
              "#0d0887"
             ],
             [
              0.1111111111111111,
              "#46039f"
             ],
             [
              0.2222222222222222,
              "#7201a8"
             ],
             [
              0.3333333333333333,
              "#9c179e"
             ],
             [
              0.4444444444444444,
              "#bd3786"
             ],
             [
              0.5555555555555556,
              "#d8576b"
             ],
             [
              0.6666666666666666,
              "#ed7953"
             ],
             [
              0.7777777777777778,
              "#fb9f3a"
             ],
             [
              0.8888888888888888,
              "#fdca26"
             ],
             [
              1,
              "#f0f921"
             ]
            ],
            "type": "histogram2dcontour"
           }
          ],
          "mesh3d": [
           {
            "colorbar": {
             "outlinewidth": 0,
             "ticks": ""
            },
            "type": "mesh3d"
           }
          ],
          "parcoords": [
           {
            "line": {
             "colorbar": {
              "outlinewidth": 0,
              "ticks": ""
             }
            },
            "type": "parcoords"
           }
          ],
          "pie": [
           {
            "automargin": true,
            "type": "pie"
           }
          ],
          "scatter": [
           {
            "marker": {
             "colorbar": {
              "outlinewidth": 0,
              "ticks": ""
             }
            },
            "type": "scatter"
           }
          ],
          "scatter3d": [
           {
            "line": {
             "colorbar": {
              "outlinewidth": 0,
              "ticks": ""
             }
            },
            "marker": {
             "colorbar": {
              "outlinewidth": 0,
              "ticks": ""
             }
            },
            "type": "scatter3d"
           }
          ],
          "scattercarpet": [
           {
            "marker": {
             "colorbar": {
              "outlinewidth": 0,
              "ticks": ""
             }
            },
            "type": "scattercarpet"
           }
          ],
          "scattergeo": [
           {
            "marker": {
             "colorbar": {
              "outlinewidth": 0,
              "ticks": ""
             }
            },
            "type": "scattergeo"
           }
          ],
          "scattergl": [
           {
            "marker": {
             "colorbar": {
              "outlinewidth": 0,
              "ticks": ""
             }
            },
            "type": "scattergl"
           }
          ],
          "scattermapbox": [
           {
            "marker": {
             "colorbar": {
              "outlinewidth": 0,
              "ticks": ""
             }
            },
            "type": "scattermapbox"
           }
          ],
          "scatterpolar": [
           {
            "marker": {
             "colorbar": {
              "outlinewidth": 0,
              "ticks": ""
             }
            },
            "type": "scatterpolar"
           }
          ],
          "scatterpolargl": [
           {
            "marker": {
             "colorbar": {
              "outlinewidth": 0,
              "ticks": ""
             }
            },
            "type": "scatterpolargl"
           }
          ],
          "scatterternary": [
           {
            "marker": {
             "colorbar": {
              "outlinewidth": 0,
              "ticks": ""
             }
            },
            "type": "scatterternary"
           }
          ],
          "surface": [
           {
            "colorbar": {
             "outlinewidth": 0,
             "ticks": ""
            },
            "colorscale": [
             [
              0,
              "#0d0887"
             ],
             [
              0.1111111111111111,
              "#46039f"
             ],
             [
              0.2222222222222222,
              "#7201a8"
             ],
             [
              0.3333333333333333,
              "#9c179e"
             ],
             [
              0.4444444444444444,
              "#bd3786"
             ],
             [
              0.5555555555555556,
              "#d8576b"
             ],
             [
              0.6666666666666666,
              "#ed7953"
             ],
             [
              0.7777777777777778,
              "#fb9f3a"
             ],
             [
              0.8888888888888888,
              "#fdca26"
             ],
             [
              1,
              "#f0f921"
             ]
            ],
            "type": "surface"
           }
          ],
          "table": [
           {
            "cells": {
             "fill": {
              "color": "#EBF0F8"
             },
             "line": {
              "color": "white"
             }
            },
            "header": {
             "fill": {
              "color": "#C8D4E3"
             },
             "line": {
              "color": "white"
             }
            },
            "type": "table"
           }
          ]
         },
         "layout": {
          "annotationdefaults": {
           "arrowcolor": "#2a3f5f",
           "arrowhead": 0,
           "arrowwidth": 1
          },
          "autotypenumbers": "strict",
          "coloraxis": {
           "colorbar": {
            "outlinewidth": 0,
            "ticks": ""
           }
          },
          "colorscale": {
           "diverging": [
            [
             0,
             "#8e0152"
            ],
            [
             0.1,
             "#c51b7d"
            ],
            [
             0.2,
             "#de77ae"
            ],
            [
             0.3,
             "#f1b6da"
            ],
            [
             0.4,
             "#fde0ef"
            ],
            [
             0.5,
             "#f7f7f7"
            ],
            [
             0.6,
             "#e6f5d0"
            ],
            [
             0.7,
             "#b8e186"
            ],
            [
             0.8,
             "#7fbc41"
            ],
            [
             0.9,
             "#4d9221"
            ],
            [
             1,
             "#276419"
            ]
           ],
           "sequential": [
            [
             0,
             "#0d0887"
            ],
            [
             0.1111111111111111,
             "#46039f"
            ],
            [
             0.2222222222222222,
             "#7201a8"
            ],
            [
             0.3333333333333333,
             "#9c179e"
            ],
            [
             0.4444444444444444,
             "#bd3786"
            ],
            [
             0.5555555555555556,
             "#d8576b"
            ],
            [
             0.6666666666666666,
             "#ed7953"
            ],
            [
             0.7777777777777778,
             "#fb9f3a"
            ],
            [
             0.8888888888888888,
             "#fdca26"
            ],
            [
             1,
             "#f0f921"
            ]
           ],
           "sequentialminus": [
            [
             0,
             "#0d0887"
            ],
            [
             0.1111111111111111,
             "#46039f"
            ],
            [
             0.2222222222222222,
             "#7201a8"
            ],
            [
             0.3333333333333333,
             "#9c179e"
            ],
            [
             0.4444444444444444,
             "#bd3786"
            ],
            [
             0.5555555555555556,
             "#d8576b"
            ],
            [
             0.6666666666666666,
             "#ed7953"
            ],
            [
             0.7777777777777778,
             "#fb9f3a"
            ],
            [
             0.8888888888888888,
             "#fdca26"
            ],
            [
             1,
             "#f0f921"
            ]
           ]
          },
          "colorway": [
           "#636efa",
           "#EF553B",
           "#00cc96",
           "#ab63fa",
           "#FFA15A",
           "#19d3f3",
           "#FF6692",
           "#B6E880",
           "#FF97FF",
           "#FECB52"
          ],
          "font": {
           "color": "#2a3f5f"
          },
          "geo": {
           "bgcolor": "white",
           "lakecolor": "white",
           "landcolor": "#E5ECF6",
           "showlakes": true,
           "showland": true,
           "subunitcolor": "white"
          },
          "hoverlabel": {
           "align": "left"
          },
          "hovermode": "closest",
          "mapbox": {
           "style": "light"
          },
          "paper_bgcolor": "white",
          "plot_bgcolor": "#E5ECF6",
          "polar": {
           "angularaxis": {
            "gridcolor": "white",
            "linecolor": "white",
            "ticks": ""
           },
           "bgcolor": "#E5ECF6",
           "radialaxis": {
            "gridcolor": "white",
            "linecolor": "white",
            "ticks": ""
           }
          },
          "scene": {
           "xaxis": {
            "backgroundcolor": "#E5ECF6",
            "gridcolor": "white",
            "gridwidth": 2,
            "linecolor": "white",
            "showbackground": true,
            "ticks": "",
            "zerolinecolor": "white"
           },
           "yaxis": {
            "backgroundcolor": "#E5ECF6",
            "gridcolor": "white",
            "gridwidth": 2,
            "linecolor": "white",
            "showbackground": true,
            "ticks": "",
            "zerolinecolor": "white"
           },
           "zaxis": {
            "backgroundcolor": "#E5ECF6",
            "gridcolor": "white",
            "gridwidth": 2,
            "linecolor": "white",
            "showbackground": true,
            "ticks": "",
            "zerolinecolor": "white"
           }
          },
          "shapedefaults": {
           "line": {
            "color": "#2a3f5f"
           }
          },
          "ternary": {
           "aaxis": {
            "gridcolor": "white",
            "linecolor": "white",
            "ticks": ""
           },
           "baxis": {
            "gridcolor": "white",
            "linecolor": "white",
            "ticks": ""
           },
           "bgcolor": "#E5ECF6",
           "caxis": {
            "gridcolor": "white",
            "linecolor": "white",
            "ticks": ""
           }
          },
          "title": {
           "x": 0.05
          },
          "xaxis": {
           "automargin": true,
           "gridcolor": "white",
           "linecolor": "white",
           "ticks": "",
           "title": {
            "standoff": 15
           },
           "zerolinecolor": "white",
           "zerolinewidth": 2
          },
          "yaxis": {
           "automargin": true,
           "gridcolor": "white",
           "linecolor": "white",
           "ticks": "",
           "title": {
            "standoff": 15
           },
           "zerolinecolor": "white",
           "zerolinewidth": 2
          }
         }
        }
       }
      },
      "text/html": [
       "<div>                            <div id=\"806bdc31-dc4a-4d11-9282-345b23737ba1\" class=\"plotly-graph-div\" style=\"height:525px; width:100%;\"></div>            <script type=\"text/javascript\">                require([\"plotly\"], function(Plotly) {                    window.PLOTLYENV=window.PLOTLYENV || {};                                    if (document.getElementById(\"806bdc31-dc4a-4d11-9282-345b23737ba1\")) {                    Plotly.newPlot(                        \"806bdc31-dc4a-4d11-9282-345b23737ba1\",                        [{\"cells\":{\"align\":[\"left\",\"center\"],\"fill\":{\"color\":[[\"white\",\"lightgrey\",\"white\",\"lightgrey\",\"white\",\"lightgrey\",\"white\",\"lightgrey\",\"white\",\"lightgrey\",\"white\",\"lightgrey\",\"white\",\"lightgrey\",\"white\",\"lightgrey\",\"white\",\"lightgrey\",\"white\",\"lightgrey\",\"white\",\"lightgrey\",\"white\",\"lightgrey\",\"white\",\"lightgrey\",\"white\",\"lightgrey\",\"white\",\"lightgrey\",\"white\",\"lightgrey\",\"white\",\"lightgrey\",\"white\",\"lightgrey\"]]},\"font\":{\"color\":\"darkslategray\",\"size\":12},\"values\":[[1,2,3,4,5,6,7,8,9,10,11,12,13,14,15,16,17,18,19,20,21,22,23,24,25,26,27,28,29,30,31,32,33,34,35,36],[0.9844535604120869,0.9677468226251941,0.9512346385644459,0.9346531759916324,0.9181739011480952,0.900842393037653,0.8833201462784784,0.8670212422450138,0.8519966909989296,0.8376918165352987,0.8233783872073387,0.8086611018412079,0.7943742640908384,0.7804929336556048,0.7668607323429902,0.7532842547258919,0.7377851836209052,0.7175923253120055,0.69815046629953,0.6808334212246393,0.6644766698446231,0.6484728482264792,0.6321965228194791,0.616982577274524,0.6021788584780274,0.5867267181459114,0.5715296321515174,0.5566541142092891,0.540989169823999,0.5259098590788447,0.5113082271830796,0.49696521773289093,0.48276883919993013,0.46904261246500567,0.45553682598741213,0.4427239009606268],[0.9844535604120869,-0.04544363122975066,-0.0007877062641222312,-0.011231327171545034,-0.005017292119389743,-0.03656622432866503,-0.01320982181195196,0.030453063480987714,0.029897156761447864,0.012710430672864096,-0.008728402376099384,-0.02039291398474809,0.004790168854693488,0.0015948368032648562,-0.0005154321892270038,-0.0038337487608661545,-0.06673025151288552,-0.15720408334609998,0.020693410963791993,0.056403992861644624,0.020430358113028305,0.004428681511986396,-0.010348439828859746,0.021204829585591282,-0.0176395878301626,-0.04498863074685065,0.0006812365579517028,0.011443385076886954,-0.03148239753669639,0.0043166634492805825,0.0043161599194702985,0.000489399008772152,-0.0026480234054010628,0.025325372449290465,0.017798818799379664,-0.0028409245978085187],[208.3807740777313,410.7077767035703,607.1245901602977,797.6650774029035,982.4341064503425,1161.1569415547685,1333.8329673396795,1501.0108970444905,1663.2402411987405,1820.8440868735513,1973.8656038278925,2122.2037151057166,2266.065978566708,2405.6457217467887,2541.076198738195,2672.420532701385,2799.0616932156045,2919.4830385707005,3034.058176865125,3143.587433124522,3248.4633429497862,3348.8739578905847,3444.8122616742985,3536.6746189613045,3624.6495704204576,3708.6165286643263,3788.7207513213175,3865.122387236701,3937.6787805685894,4006.6234781984213,4072.1529430011938,4134.401475406769,4193.472576196623,4249.545633003753,4302.734819843971,4353.2594221178015],[3.0984277400689655e-47,6.5454491222942715e-90,2.8764900561398495e-131,2.4609759692472094e-171,3.817190406468106e-210,1.2194437165529565e-247,7.981458756889363e-284,0.0,0.0,0.0,0.0,0.0,0.0,0.0,0.0,0.0,0.0,0.0,0.0,0.0,0.0,0.0,0.0,0.0,0.0,0.0,0.0,0.0,0.0,0.0,0.0,0.0,0.0,0.0,0.0,0.0]]},\"header\":{\"align\":[\"left\",\"center\"],\"fill\":{\"color\":\"grey\"},\"font\":{\"color\":\"white\",\"size\":12},\"line\":{\"color\":\"darkslategray\"},\"values\":[\"n\",\"AC\",\"PAC\",\"Q-Stat\",\"Prob\"]},\"type\":\"table\"}],                        {\"template\":{\"data\":{\"bar\":[{\"error_x\":{\"color\":\"#2a3f5f\"},\"error_y\":{\"color\":\"#2a3f5f\"},\"marker\":{\"line\":{\"color\":\"#E5ECF6\",\"width\":0.5},\"pattern\":{\"fillmode\":\"overlay\",\"size\":10,\"solidity\":0.2}},\"type\":\"bar\"}],\"barpolar\":[{\"marker\":{\"line\":{\"color\":\"#E5ECF6\",\"width\":0.5},\"pattern\":{\"fillmode\":\"overlay\",\"size\":10,\"solidity\":0.2}},\"type\":\"barpolar\"}],\"carpet\":[{\"aaxis\":{\"endlinecolor\":\"#2a3f5f\",\"gridcolor\":\"white\",\"linecolor\":\"white\",\"minorgridcolor\":\"white\",\"startlinecolor\":\"#2a3f5f\"},\"baxis\":{\"endlinecolor\":\"#2a3f5f\",\"gridcolor\":\"white\",\"linecolor\":\"white\",\"minorgridcolor\":\"white\",\"startlinecolor\":\"#2a3f5f\"},\"type\":\"carpet\"}],\"choropleth\":[{\"colorbar\":{\"outlinewidth\":0,\"ticks\":\"\"},\"type\":\"choropleth\"}],\"contour\":[{\"colorbar\":{\"outlinewidth\":0,\"ticks\":\"\"},\"colorscale\":[[0.0,\"#0d0887\"],[0.1111111111111111,\"#46039f\"],[0.2222222222222222,\"#7201a8\"],[0.3333333333333333,\"#9c179e\"],[0.4444444444444444,\"#bd3786\"],[0.5555555555555556,\"#d8576b\"],[0.6666666666666666,\"#ed7953\"],[0.7777777777777778,\"#fb9f3a\"],[0.8888888888888888,\"#fdca26\"],[1.0,\"#f0f921\"]],\"type\":\"contour\"}],\"contourcarpet\":[{\"colorbar\":{\"outlinewidth\":0,\"ticks\":\"\"},\"type\":\"contourcarpet\"}],\"heatmap\":[{\"colorbar\":{\"outlinewidth\":0,\"ticks\":\"\"},\"colorscale\":[[0.0,\"#0d0887\"],[0.1111111111111111,\"#46039f\"],[0.2222222222222222,\"#7201a8\"],[0.3333333333333333,\"#9c179e\"],[0.4444444444444444,\"#bd3786\"],[0.5555555555555556,\"#d8576b\"],[0.6666666666666666,\"#ed7953\"],[0.7777777777777778,\"#fb9f3a\"],[0.8888888888888888,\"#fdca26\"],[1.0,\"#f0f921\"]],\"type\":\"heatmap\"}],\"heatmapgl\":[{\"colorbar\":{\"outlinewidth\":0,\"ticks\":\"\"},\"colorscale\":[[0.0,\"#0d0887\"],[0.1111111111111111,\"#46039f\"],[0.2222222222222222,\"#7201a8\"],[0.3333333333333333,\"#9c179e\"],[0.4444444444444444,\"#bd3786\"],[0.5555555555555556,\"#d8576b\"],[0.6666666666666666,\"#ed7953\"],[0.7777777777777778,\"#fb9f3a\"],[0.8888888888888888,\"#fdca26\"],[1.0,\"#f0f921\"]],\"type\":\"heatmapgl\"}],\"histogram\":[{\"marker\":{\"pattern\":{\"fillmode\":\"overlay\",\"size\":10,\"solidity\":0.2}},\"type\":\"histogram\"}],\"histogram2d\":[{\"colorbar\":{\"outlinewidth\":0,\"ticks\":\"\"},\"colorscale\":[[0.0,\"#0d0887\"],[0.1111111111111111,\"#46039f\"],[0.2222222222222222,\"#7201a8\"],[0.3333333333333333,\"#9c179e\"],[0.4444444444444444,\"#bd3786\"],[0.5555555555555556,\"#d8576b\"],[0.6666666666666666,\"#ed7953\"],[0.7777777777777778,\"#fb9f3a\"],[0.8888888888888888,\"#fdca26\"],[1.0,\"#f0f921\"]],\"type\":\"histogram2d\"}],\"histogram2dcontour\":[{\"colorbar\":{\"outlinewidth\":0,\"ticks\":\"\"},\"colorscale\":[[0.0,\"#0d0887\"],[0.1111111111111111,\"#46039f\"],[0.2222222222222222,\"#7201a8\"],[0.3333333333333333,\"#9c179e\"],[0.4444444444444444,\"#bd3786\"],[0.5555555555555556,\"#d8576b\"],[0.6666666666666666,\"#ed7953\"],[0.7777777777777778,\"#fb9f3a\"],[0.8888888888888888,\"#fdca26\"],[1.0,\"#f0f921\"]],\"type\":\"histogram2dcontour\"}],\"mesh3d\":[{\"colorbar\":{\"outlinewidth\":0,\"ticks\":\"\"},\"type\":\"mesh3d\"}],\"parcoords\":[{\"line\":{\"colorbar\":{\"outlinewidth\":0,\"ticks\":\"\"}},\"type\":\"parcoords\"}],\"pie\":[{\"automargin\":true,\"type\":\"pie\"}],\"scatter\":[{\"marker\":{\"colorbar\":{\"outlinewidth\":0,\"ticks\":\"\"}},\"type\":\"scatter\"}],\"scatter3d\":[{\"line\":{\"colorbar\":{\"outlinewidth\":0,\"ticks\":\"\"}},\"marker\":{\"colorbar\":{\"outlinewidth\":0,\"ticks\":\"\"}},\"type\":\"scatter3d\"}],\"scattercarpet\":[{\"marker\":{\"colorbar\":{\"outlinewidth\":0,\"ticks\":\"\"}},\"type\":\"scattercarpet\"}],\"scattergeo\":[{\"marker\":{\"colorbar\":{\"outlinewidth\":0,\"ticks\":\"\"}},\"type\":\"scattergeo\"}],\"scattergl\":[{\"marker\":{\"colorbar\":{\"outlinewidth\":0,\"ticks\":\"\"}},\"type\":\"scattergl\"}],\"scattermapbox\":[{\"marker\":{\"colorbar\":{\"outlinewidth\":0,\"ticks\":\"\"}},\"type\":\"scattermapbox\"}],\"scatterpolar\":[{\"marker\":{\"colorbar\":{\"outlinewidth\":0,\"ticks\":\"\"}},\"type\":\"scatterpolar\"}],\"scatterpolargl\":[{\"marker\":{\"colorbar\":{\"outlinewidth\":0,\"ticks\":\"\"}},\"type\":\"scatterpolargl\"}],\"scatterternary\":[{\"marker\":{\"colorbar\":{\"outlinewidth\":0,\"ticks\":\"\"}},\"type\":\"scatterternary\"}],\"surface\":[{\"colorbar\":{\"outlinewidth\":0,\"ticks\":\"\"},\"colorscale\":[[0.0,\"#0d0887\"],[0.1111111111111111,\"#46039f\"],[0.2222222222222222,\"#7201a8\"],[0.3333333333333333,\"#9c179e\"],[0.4444444444444444,\"#bd3786\"],[0.5555555555555556,\"#d8576b\"],[0.6666666666666666,\"#ed7953\"],[0.7777777777777778,\"#fb9f3a\"],[0.8888888888888888,\"#fdca26\"],[1.0,\"#f0f921\"]],\"type\":\"surface\"}],\"table\":[{\"cells\":{\"fill\":{\"color\":\"#EBF0F8\"},\"line\":{\"color\":\"white\"}},\"header\":{\"fill\":{\"color\":\"#C8D4E3\"},\"line\":{\"color\":\"white\"}},\"type\":\"table\"}]},\"layout\":{\"annotationdefaults\":{\"arrowcolor\":\"#2a3f5f\",\"arrowhead\":0,\"arrowwidth\":1},\"autotypenumbers\":\"strict\",\"coloraxis\":{\"colorbar\":{\"outlinewidth\":0,\"ticks\":\"\"}},\"colorscale\":{\"diverging\":[[0,\"#8e0152\"],[0.1,\"#c51b7d\"],[0.2,\"#de77ae\"],[0.3,\"#f1b6da\"],[0.4,\"#fde0ef\"],[0.5,\"#f7f7f7\"],[0.6,\"#e6f5d0\"],[0.7,\"#b8e186\"],[0.8,\"#7fbc41\"],[0.9,\"#4d9221\"],[1,\"#276419\"]],\"sequential\":[[0.0,\"#0d0887\"],[0.1111111111111111,\"#46039f\"],[0.2222222222222222,\"#7201a8\"],[0.3333333333333333,\"#9c179e\"],[0.4444444444444444,\"#bd3786\"],[0.5555555555555556,\"#d8576b\"],[0.6666666666666666,\"#ed7953\"],[0.7777777777777778,\"#fb9f3a\"],[0.8888888888888888,\"#fdca26\"],[1.0,\"#f0f921\"]],\"sequentialminus\":[[0.0,\"#0d0887\"],[0.1111111111111111,\"#46039f\"],[0.2222222222222222,\"#7201a8\"],[0.3333333333333333,\"#9c179e\"],[0.4444444444444444,\"#bd3786\"],[0.5555555555555556,\"#d8576b\"],[0.6666666666666666,\"#ed7953\"],[0.7777777777777778,\"#fb9f3a\"],[0.8888888888888888,\"#fdca26\"],[1.0,\"#f0f921\"]]},\"colorway\":[\"#636efa\",\"#EF553B\",\"#00cc96\",\"#ab63fa\",\"#FFA15A\",\"#19d3f3\",\"#FF6692\",\"#B6E880\",\"#FF97FF\",\"#FECB52\"],\"font\":{\"color\":\"#2a3f5f\"},\"geo\":{\"bgcolor\":\"white\",\"lakecolor\":\"white\",\"landcolor\":\"#E5ECF6\",\"showlakes\":true,\"showland\":true,\"subunitcolor\":\"white\"},\"hoverlabel\":{\"align\":\"left\"},\"hovermode\":\"closest\",\"mapbox\":{\"style\":\"light\"},\"paper_bgcolor\":\"white\",\"plot_bgcolor\":\"#E5ECF6\",\"polar\":{\"angularaxis\":{\"gridcolor\":\"white\",\"linecolor\":\"white\",\"ticks\":\"\"},\"bgcolor\":\"#E5ECF6\",\"radialaxis\":{\"gridcolor\":\"white\",\"linecolor\":\"white\",\"ticks\":\"\"}},\"scene\":{\"xaxis\":{\"backgroundcolor\":\"#E5ECF6\",\"gridcolor\":\"white\",\"gridwidth\":2,\"linecolor\":\"white\",\"showbackground\":true,\"ticks\":\"\",\"zerolinecolor\":\"white\"},\"yaxis\":{\"backgroundcolor\":\"#E5ECF6\",\"gridcolor\":\"white\",\"gridwidth\":2,\"linecolor\":\"white\",\"showbackground\":true,\"ticks\":\"\",\"zerolinecolor\":\"white\"},\"zaxis\":{\"backgroundcolor\":\"#E5ECF6\",\"gridcolor\":\"white\",\"gridwidth\":2,\"linecolor\":\"white\",\"showbackground\":true,\"ticks\":\"\",\"zerolinecolor\":\"white\"}},\"shapedefaults\":{\"line\":{\"color\":\"#2a3f5f\"}},\"ternary\":{\"aaxis\":{\"gridcolor\":\"white\",\"linecolor\":\"white\",\"ticks\":\"\"},\"baxis\":{\"gridcolor\":\"white\",\"linecolor\":\"white\",\"ticks\":\"\"},\"bgcolor\":\"#E5ECF6\",\"caxis\":{\"gridcolor\":\"white\",\"linecolor\":\"white\",\"ticks\":\"\"}},\"title\":{\"x\":0.05},\"xaxis\":{\"automargin\":true,\"gridcolor\":\"white\",\"linecolor\":\"white\",\"ticks\":\"\",\"title\":{\"standoff\":15},\"zerolinecolor\":\"white\",\"zerolinewidth\":2},\"yaxis\":{\"automargin\":true,\"gridcolor\":\"white\",\"linecolor\":\"white\",\"ticks\":\"\",\"title\":{\"standoff\":15},\"zerolinecolor\":\"white\",\"zerolinewidth\":2}}}},                        {\"responsive\": true}                    ).then(function(){\n",
       "                            \n",
       "var gd = document.getElementById('806bdc31-dc4a-4d11-9282-345b23737ba1');\n",
       "var x = new MutationObserver(function (mutations, observer) {{\n",
       "        var display = window.getComputedStyle(gd).display;\n",
       "        if (!display || display === 'none') {{\n",
       "            console.log([gd, 'removed!']);\n",
       "            Plotly.purge(gd);\n",
       "            observer.disconnect();\n",
       "        }}\n",
       "}});\n",
       "\n",
       "// Listen for the removal of the full notebook cells\n",
       "var notebookContainer = gd.closest('#notebook-container');\n",
       "if (notebookContainer) {{\n",
       "    x.observe(notebookContainer, {childList: true});\n",
       "}}\n",
       "\n",
       "// Listen for the clearing of the current output cell\n",
       "var outputEl = gd.closest('.output');\n",
       "if (outputEl) {{\n",
       "    x.observe(outputEl, {childList: true});\n",
       "}}\n",
       "\n",
       "                        })                };                });            </script>        </div>"
      ]
     },
     "metadata": {},
     "output_type": "display_data"
    }
   ],
   "source": [
    "resultado_acf = acf(df_ppinsa, nlags = 36, qstat = True)\n",
    "resultado_pacf = pacf(df_ppinsa, nlags = 36, method = \"ywm\")\n",
    "\n",
    "list_acf = list(resultado_acf)\n",
    "AC = list_acf[0]\n",
    "AC = list(AC)\n",
    "AC.remove(AC[0])\n",
    "\n",
    "list_pacf= list(resultado_pacf)\n",
    "list_pacf.remove(list_pacf[0])\n",
    "\n",
    "headerColor = 'grey'\n",
    "rowEvenColor = 'lightgrey'\n",
    "rowOddColor = 'white'\n",
    "\n",
    "fig = go.Figure(data=[go.Table(header=dict(values=['n','AC', 'PAC', 'Q-Stat', 'Prob'],\n",
    "                                          line_color='darkslategray',\n",
    "                                          fill_color=headerColor,\n",
    "                                          align=['left','center'],\n",
    "                                          font=dict(color='white', size=12)),\n",
    "                               cells=dict(values=[list(range(1,37)),AC, list_pacf, list_acf[1], list_acf[2]],\n",
    "                                          fill_color = [[rowOddColor,rowEvenColor]*18],\n",
    "                                          align = ['left', 'center'],\n",
    "                                          font = dict(color = 'darkslategray', size = 12)))\n",
    "                     ])\n",
    "fig.show()"
   ]
  },
  {
   "cell_type": "code",
   "execution_count": 77,
   "id": "c34f53da",
   "metadata": {},
   "outputs": [
    {
     "data": {
      "image/png": "[encoded data removed]",
      "text/plain": [
       "<Figure size 1600x300 with 2 Axes>"
      ]
     },
     "execution_count": 77,
     "metadata": {},
     "output_type": "execute_result"
    },
    {
     "data": {
      "image/png": "[encoded data removed]",
      "text/plain": [
       "<Figure size 1600x300 with 2 Axes>"
      ]
     },
     "metadata": {
      "needs_background": "light"
     },
     "output_type": "display_data"
    }
   ],
   "source": [
    "fig, axes = plt.subplots(1,2, figsize=(16,3), dpi= 100)\n",
    "\n",
    "plot_acf(df_ppinsa_diff, lags=36, ax=axes[0])\n",
    "plot_pacf(df_ppinsa_diff, lags=36, ax=axes[1])"
   ]
  },
  {
   "cell_type": "code",
   "execution_count": 79,
   "id": "e50c91e9",
   "metadata": {},
   "outputs": [
    {
     "data": {
      "application/vnd.plotly.v1+json": {
       "config": {
        "plotlyServerURL": "https://plot.ly"
       },
       "data": [
        {
         "cells": {
          "align": [
           "left",
           "center"
          ],
          "fill": {
           "color": [
            [
             "white",
             "lightgrey",
             "white",
             "lightgrey",
             "white",
             "lightgrey",
             "white",
             "lightgrey",
             "white",
             "lightgrey",
             "white",
             "lightgrey",
             "white",
             "lightgrey",
             "white",
             "lightgrey",
             "white",
             "lightgrey",
             "white",
             "lightgrey",
             "white",
             "lightgrey",
             "white",
             "lightgrey",
             "white",
             "lightgrey",
             "white",
             "lightgrey",
             "white",
             "lightgrey",
             "white",
             "lightgrey",
             "white",
             "lightgrey",
             "white",
             "lightgrey"
            ]
           ]
          },
          "font": {
           "color": "darkslategray",
           "size": 12
          },
          "values": [
           [
            1,
            2,
            3,
            4,
            5,
            6,
            7,
            8,
            9,
            10,
            11,
            12,
            13,
            14,
            15,
            16,
            17,
            18,
            19,
            20,
            21,
            22,
            23,
            24,
            25,
            26,
            27,
            28,
            29,
            30,
            31,
            32,
            33,
            34,
            35,
            36
           ],
           [
            0.35814526805172275,
            -0.14193801545475565,
            -0.10290978876773302,
            -0.03211665804965717,
            -0.018390227868525257,
            -0.019208869318963175,
            0.011592920923867895,
            0.010284917621084253,
            -0.13479141716063978,
            -0.05476420590236073,
            0.23354214230177595,
            0.12777946147017058,
            -0.022412305067007435,
            0.011902152775925651,
            0.02643122094074358,
            0.01934058630684016,
            0.029209664901475595,
            -0.05915357088898373,
            -0.011675283085008545,
            0.02405410800939089,
            0.06925494677510827,
            0.09104522916137175,
            -0.03293902943569022,
            -0.03339723928851838,
            -0.02543703184297323,
            -0.07785076677230197,
            -0.029340136401956922,
            0.10844636235252303,
            0.1058722944337035,
            0.05014751790177726,
            0.003271611635970838,
            -0.002215886815111855,
            -0.04481357602185082,
            -0.056149076293744216,
            -0.03556255376932258,
            -0.03390044051041521
           ],
           [
            0.3581452680517227,
            -0.30996459774340873,
            0.09479185892593042,
            -0.08332640975287313,
            0.009741598630031177,
            -0.030766392490036328,
            0.02989378691545792,
            -0.022152983384568836,
            -0.1618053766512671,
            0.10282439105944166,
            0.20294541695098015,
            -0.1073792111719471,
            0.07670198472872077,
            0.0312795344625201,
            0.002635467423428567,
            0.03296509054893122,
            0.04940432294828269,
            -0.13503451184999016,
            0.08867179912118144,
            0.041062153540855094,
            0.09042605212305473,
            -0.04528108577989812,
            -0.03623275768273171,
            0.061425705975787635,
            -0.10279217412158342,
            -0.025235685073159504,
            -0.0007832099706536489,
            0.07910821123129423,
            0.06730263939625505,
            0.037041612805391644,
            -0.0029838079492003284,
            -0.0372190445770448,
            -0.07057772701979315,
            0.03967362332511874,
            -0.0886461945047922,
            -0.04451950053242368
           ],
           [
            27.451191468429663,
            31.783438672220907,
            34.071734123597324,
            34.29568481561787,
            34.36946998173492,
            34.450363141859,
            34.47997172586945,
            34.50339068861834,
            38.54575236642935,
            39.21634625411633,
            51.47273655538369,
            55.160228576178724,
            55.27424565738022,
            55.30656383576015,
            55.46675569331487,
            55.552967494439336,
            55.7506250764326,
            56.56545446212805,
            56.59736217453835,
            56.73350890144591,
            57.86802341860816,
            59.839150575027084,
            60.09852419665904,
            60.36659010700934,
            60.522934381614434,
            61.995301530960546,
            62.20556725975627,
            65.09385825903132,
            67.86178964943804,
            68.48621764797097,
            68.48889011922161,
            68.49012295200475,
            68.99718517778011,
            69.7977085654582,
            70.12065855266657,
            70.41580305171571
           ],
           [
            1.611095841652102e-07,
            1.2540474931863108e-07,
            1.9132936421889338e-07,
            6.480547005245121e-07,
            2.009891555325496e-06,
            5.505768644748613e-06,
            1.4003552242962486e-05,
            3.292133567213736e-05,
            1.3908686110741517e-05,
            2.326647620228558e-05,
            3.3963581141260715e-07,
            1.6940609008821902e-07,
            3.6168184931763347e-07,
            7.668755726395964e-07,
            1.4905039278640462e-06,
            2.8839900150918803e-06,
            5.188579103848723e-06,
            7.254003291649388e-06,
            1.3192504384231086e-05,
            2.252605908633484e-05,
            2.6700724435218175e-05,
            2.3606814387559133e-05,
            3.697250568893669e-05,
            5.669078923499438e-05,
            8.853528856668071e-05,
            8.990515640664443e-05,
            0.0001345821707249483,
            8.753613569013796e-05,
            5.912696867220306e-05,
            7.71960159188232e-05,
            0.00012020889345396066,
            0.00018426325031073174,
            0.0002407680602067053,
            0.00028710886240098217,
            0.0003883369444417088,
            0.000523809193292651
           ]
          ]
         },
         "header": {
          "align": [
           "left",
           "center"
          ],
          "fill": {
           "color": "grey"
          },
          "font": {
           "color": "white",
           "size": 12
          },
          "line": {
           "color": "darkslategray"
          },
          "values": [
           "n",
           "AC",
           "PAC",
           "Q-Stat",
           "Prob"
          ]
         },
         "type": "table"
        }
       ],
       "layout": {
        "template": {
         "data": {
          "bar": [
           {
            "error_x": {
             "color": "#2a3f5f"
            },
            "error_y": {
             "color": "#2a3f5f"
            },
            "marker": {
             "line": {
              "color": "#E5ECF6",
              "width": 0.5
             },
             "pattern": {
              "fillmode": "overlay",
              "size": 10,
              "solidity": 0.2
             }
            },
            "type": "bar"
           }
          ],
          "barpolar": [
           {
            "marker": {
             "line": {
              "color": "#E5ECF6",
              "width": 0.5
             },
             "pattern": {
              "fillmode": "overlay",
              "size": 10,
              "solidity": 0.2
             }
            },
            "type": "barpolar"
           }
          ],
          "carpet": [
           {
            "aaxis": {
             "endlinecolor": "#2a3f5f",
             "gridcolor": "white",
             "linecolor": "white",
             "minorgridcolor": "white",
             "startlinecolor": "#2a3f5f"
            },
            "baxis": {
             "endlinecolor": "#2a3f5f",
             "gridcolor": "white",
             "linecolor": "white",
             "minorgridcolor": "white",
             "startlinecolor": "#2a3f5f"
            },
            "type": "carpet"
           }
          ],
          "choropleth": [
           {
            "colorbar": {
             "outlinewidth": 0,
             "ticks": ""
            },
            "type": "choropleth"
           }
          ],
          "contour": [
           {
            "colorbar": {
             "outlinewidth": 0,
             "ticks": ""
            },
            "colorscale": [
             [
              0,
              "#0d0887"
             ],
             [
              0.1111111111111111,
              "#46039f"
             ],
             [
              0.2222222222222222,
              "#7201a8"
             ],
             [
              0.3333333333333333,
              "#9c179e"
             ],
             [
              0.4444444444444444,
              "#bd3786"
             ],
             [
              0.5555555555555556,
              "#d8576b"
             ],
             [
              0.6666666666666666,
              "#ed7953"
             ],
             [
              0.7777777777777778,
              "#fb9f3a"
             ],
             [
              0.8888888888888888,
              "#fdca26"
             ],
             [
              1,
              "#f0f921"
             ]
            ],
            "type": "contour"
           }
          ],
          "contourcarpet": [
           {
            "colorbar": {
             "outlinewidth": 0,
             "ticks": ""
            },
            "type": "contourcarpet"
           }
          ],
          "heatmap": [
           {
            "colorbar": {
             "outlinewidth": 0,
             "ticks": ""
            },
            "colorscale": [
             [
              0,
              "#0d0887"
             ],
             [
              0.1111111111111111,
              "#46039f"
             ],
             [
              0.2222222222222222,
              "#7201a8"
             ],
             [
              0.3333333333333333,
              "#9c179e"
             ],
             [
              0.4444444444444444,
              "#bd3786"
             ],
             [
              0.5555555555555556,
              "#d8576b"
             ],
             [
              0.6666666666666666,
              "#ed7953"
             ],
             [
              0.7777777777777778,
              "#fb9f3a"
             ],
             [
              0.8888888888888888,
              "#fdca26"
             ],
             [
              1,
              "#f0f921"
             ]
            ],
            "type": "heatmap"
           }
          ],
          "heatmapgl": [
           {
            "colorbar": {
             "outlinewidth": 0,
             "ticks": ""
            },
            "colorscale": [
             [
              0,
              "#0d0887"
             ],
             [
              0.1111111111111111,
              "#46039f"
             ],
             [
              0.2222222222222222,
              "#7201a8"
             ],
             [
              0.3333333333333333,
              "#9c179e"
             ],
             [
              0.4444444444444444,
              "#bd3786"
             ],
             [
              0.5555555555555556,
              "#d8576b"
             ],
             [
              0.6666666666666666,
              "#ed7953"
             ],
             [
              0.7777777777777778,
              "#fb9f3a"
             ],
             [
              0.8888888888888888,
              "#fdca26"
             ],
             [
              1,
              "#f0f921"
             ]
            ],
            "type": "heatmapgl"
           }
          ],
          "histogram": [
           {
            "marker": {
             "pattern": {
              "fillmode": "overlay",
              "size": 10,
              "solidity": 0.2
             }
            },
            "type": "histogram"
           }
          ],
          "histogram2d": [
           {
            "colorbar": {
             "outlinewidth": 0,
             "ticks": ""
            },
            "colorscale": [
             [
              0,
              "#0d0887"
             ],
             [
              0.1111111111111111,
              "#46039f"
             ],
             [
              0.2222222222222222,
              "#7201a8"
             ],
             [
              0.3333333333333333,
              "#9c179e"
             ],
             [
              0.4444444444444444,
              "#bd3786"
             ],
             [
              0.5555555555555556,
              "#d8576b"
             ],
             [
              0.6666666666666666,
              "#ed7953"
             ],
             [
              0.7777777777777778,
              "#fb9f3a"
             ],
             [
              0.8888888888888888,
              "#fdca26"
             ],
             [
              1,
              "#f0f921"
             ]
            ],
            "type": "histogram2d"
           }
          ],
          "histogram2dcontour": [
           {
            "colorbar": {
             "outlinewidth": 0,
             "ticks": ""
            },
            "colorscale": [
             [
              0,
              "#0d0887"
             ],
             [
              0.1111111111111111,
              "#46039f"
             ],
             [
              0.2222222222222222,
              "#7201a8"
             ],
             [
              0.3333333333333333,
              "#9c179e"
             ],
             [
              0.4444444444444444,
              "#bd3786"
             ],
             [
              0.5555555555555556,
              "#d8576b"
             ],
             [
              0.6666666666666666,
              "#ed7953"
             ],
             [
              0.7777777777777778,
              "#fb9f3a"
             ],
             [
              0.8888888888888888,
              "#fdca26"
             ],
             [
              1,
              "#f0f921"
             ]
            ],
            "type": "histogram2dcontour"
           }
          ],
          "mesh3d": [
           {
            "colorbar": {
             "outlinewidth": 0,
             "ticks": ""
            },
            "type": "mesh3d"
           }
          ],
          "parcoords": [
           {
            "line": {
             "colorbar": {
              "outlinewidth": 0,
              "ticks": ""
             }
            },
            "type": "parcoords"
           }
          ],
          "pie": [
           {
            "automargin": true,
            "type": "pie"
           }
          ],
          "scatter": [
           {
            "marker": {
             "colorbar": {
              "outlinewidth": 0,
              "ticks": ""
             }
            },
            "type": "scatter"
           }
          ],
          "scatter3d": [
           {
            "line": {
             "colorbar": {
              "outlinewidth": 0,
              "ticks": ""
             }
            },
            "marker": {
             "colorbar": {
              "outlinewidth": 0,
              "ticks": ""
             }
            },
            "type": "scatter3d"
           }
          ],
          "scattercarpet": [
           {
            "marker": {
             "colorbar": {
              "outlinewidth": 0,
              "ticks": ""
             }
            },
            "type": "scattercarpet"
           }
          ],
          "scattergeo": [
           {
            "marker": {
             "colorbar": {
              "outlinewidth": 0,
              "ticks": ""
             }
            },
            "type": "scattergeo"
           }
          ],
          "scattergl": [
           {
            "marker": {
             "colorbar": {
              "outlinewidth": 0,
              "ticks": ""
             }
            },
            "type": "scattergl"
           }
          ],
          "scattermapbox": [
           {
            "marker": {
             "colorbar": {
              "outlinewidth": 0,
              "ticks": ""
             }
            },
            "type": "scattermapbox"
           }
          ],
          "scatterpolar": [
           {
            "marker": {
             "colorbar": {
              "outlinewidth": 0,
              "ticks": ""
             }
            },
            "type": "scatterpolar"
           }
          ],
          "scatterpolargl": [
           {
            "marker": {
             "colorbar": {
              "outlinewidth": 0,
              "ticks": ""
             }
            },
            "type": "scatterpolargl"
           }
          ],
          "scatterternary": [
           {
            "marker": {
             "colorbar": {
              "outlinewidth": 0,
              "ticks": ""
             }
            },
            "type": "scatterternary"
           }
          ],
          "surface": [
           {
            "colorbar": {
             "outlinewidth": 0,
             "ticks": ""
            },
            "colorscale": [
             [
              0,
              "#0d0887"
             ],
             [
              0.1111111111111111,
              "#46039f"
             ],
             [
              0.2222222222222222,
              "#7201a8"
             ],
             [
              0.3333333333333333,
              "#9c179e"
             ],
             [
              0.4444444444444444,
              "#bd3786"
             ],
             [
              0.5555555555555556,
              "#d8576b"
             ],
             [
              0.6666666666666666,
              "#ed7953"
             ],
             [
              0.7777777777777778,
              "#fb9f3a"
             ],
             [
              0.8888888888888888,
              "#fdca26"
             ],
             [
              1,
              "#f0f921"
             ]
            ],
            "type": "surface"
           }
          ],
          "table": [
           {
            "cells": {
             "fill": {
              "color": "#EBF0F8"
             },
             "line": {
              "color": "white"
             }
            },
            "header": {
             "fill": {
              "color": "#C8D4E3"
             },
             "line": {
              "color": "white"
             }
            },
            "type": "table"
           }
          ]
         },
         "layout": {
          "annotationdefaults": {
           "arrowcolor": "#2a3f5f",
           "arrowhead": 0,
           "arrowwidth": 1
          },
          "autotypenumbers": "strict",
          "coloraxis": {
           "colorbar": {
            "outlinewidth": 0,
            "ticks": ""
           }
          },
          "colorscale": {
           "diverging": [
            [
             0,
             "#8e0152"
            ],
            [
             0.1,
             "#c51b7d"
            ],
            [
             0.2,
             "#de77ae"
            ],
            [
             0.3,
             "#f1b6da"
            ],
            [
             0.4,
             "#fde0ef"
            ],
            [
             0.5,
             "#f7f7f7"
            ],
            [
             0.6,
             "#e6f5d0"
            ],
            [
             0.7,
             "#b8e186"
            ],
            [
             0.8,
             "#7fbc41"
            ],
            [
             0.9,
             "#4d9221"
            ],
            [
             1,
             "#276419"
            ]
           ],
           "sequential": [
            [
             0,
             "#0d0887"
            ],
            [
             0.1111111111111111,
             "#46039f"
            ],
            [
             0.2222222222222222,
             "#7201a8"
            ],
            [
             0.3333333333333333,
             "#9c179e"
            ],
            [
             0.4444444444444444,
             "#bd3786"
            ],
            [
             0.5555555555555556,
             "#d8576b"
            ],
            [
             0.6666666666666666,
             "#ed7953"
            ],
            [
             0.7777777777777778,
             "#fb9f3a"
            ],
            [
             0.8888888888888888,
             "#fdca26"
            ],
            [
             1,
             "#f0f921"
            ]
           ],
           "sequentialminus": [
            [
             0,
             "#0d0887"
            ],
            [
             0.1111111111111111,
             "#46039f"
            ],
            [
             0.2222222222222222,
             "#7201a8"
            ],
            [
             0.3333333333333333,
             "#9c179e"
            ],
            [
             0.4444444444444444,
             "#bd3786"
            ],
            [
             0.5555555555555556,
             "#d8576b"
            ],
            [
             0.6666666666666666,
             "#ed7953"
            ],
            [
             0.7777777777777778,
             "#fb9f3a"
            ],
            [
             0.8888888888888888,
             "#fdca26"
            ],
            [
             1,
             "#f0f921"
            ]
           ]
          },
          "colorway": [
           "#636efa",
           "#EF553B",
           "#00cc96",
           "#ab63fa",
           "#FFA15A",
           "#19d3f3",
           "#FF6692",
           "#B6E880",
           "#FF97FF",
           "#FECB52"
          ],
          "font": {
           "color": "#2a3f5f"
          },
          "geo": {
           "bgcolor": "white",
           "lakecolor": "white",
           "landcolor": "#E5ECF6",
           "showlakes": true,
           "showland": true,
           "subunitcolor": "white"
          },
          "hoverlabel": {
           "align": "left"
          },
          "hovermode": "closest",
          "mapbox": {
           "style": "light"
          },
          "paper_bgcolor": "white",
          "plot_bgcolor": "#E5ECF6",
          "polar": {
           "angularaxis": {
            "gridcolor": "white",
            "linecolor": "white",
            "ticks": ""
           },
           "bgcolor": "#E5ECF6",
           "radialaxis": {
            "gridcolor": "white",
            "linecolor": "white",
            "ticks": ""
           }
          },
          "scene": {
           "xaxis": {
            "backgroundcolor": "#E5ECF6",
            "gridcolor": "white",
            "gridwidth": 2,
            "linecolor": "white",
            "showbackground": true,
            "ticks": "",
            "zerolinecolor": "white"
           },
           "yaxis": {
            "backgroundcolor": "#E5ECF6",
            "gridcolor": "white",
            "gridwidth": 2,
            "linecolor": "white",
            "showbackground": true,
            "ticks": "",
            "zerolinecolor": "white"
           },
           "zaxis": {
            "backgroundcolor": "#E5ECF6",
            "gridcolor": "white",
            "gridwidth": 2,
            "linecolor": "white",
            "showbackground": true,
            "ticks": "",
            "zerolinecolor": "white"
           }
          },
          "shapedefaults": {
           "line": {
            "color": "#2a3f5f"
           }
          },
          "ternary": {
           "aaxis": {
            "gridcolor": "white",
            "linecolor": "white",
            "ticks": ""
           },
           "baxis": {
            "gridcolor": "white",
            "linecolor": "white",
            "ticks": ""
           },
           "bgcolor": "#E5ECF6",
           "caxis": {
            "gridcolor": "white",
            "linecolor": "white",
            "ticks": ""
           }
          },
          "title": {
           "x": 0.05
          },
          "xaxis": {
           "automargin": true,
           "gridcolor": "white",
           "linecolor": "white",
           "ticks": "",
           "title": {
            "standoff": 15
           },
           "zerolinecolor": "white",
           "zerolinewidth": 2
          },
          "yaxis": {
           "automargin": true,
           "gridcolor": "white",
           "linecolor": "white",
           "ticks": "",
           "title": {
            "standoff": 15
           },
           "zerolinecolor": "white",
           "zerolinewidth": 2
          }
         }
        }
       }
      },
      "text/html": [
       "<div>                            <div id=\"907c7880-9ec8-4b1f-a9c6-2a0812da7080\" class=\"plotly-graph-div\" style=\"height:525px; width:100%;\"></div>            <script type=\"text/javascript\">                require([\"plotly\"], function(Plotly) {                    window.PLOTLYENV=window.PLOTLYENV || {};                                    if (document.getElementById(\"907c7880-9ec8-4b1f-a9c6-2a0812da7080\")) {                    Plotly.newPlot(                        \"907c7880-9ec8-4b1f-a9c6-2a0812da7080\",                        [{\"cells\":{\"align\":[\"left\",\"center\"],\"fill\":{\"color\":[[\"white\",\"lightgrey\",\"white\",\"lightgrey\",\"white\",\"lightgrey\",\"white\",\"lightgrey\",\"white\",\"lightgrey\",\"white\",\"lightgrey\",\"white\",\"lightgrey\",\"white\",\"lightgrey\",\"white\",\"lightgrey\",\"white\",\"lightgrey\",\"white\",\"lightgrey\",\"white\",\"lightgrey\",\"white\",\"lightgrey\",\"white\",\"lightgrey\",\"white\",\"lightgrey\",\"white\",\"lightgrey\",\"white\",\"lightgrey\",\"white\",\"lightgrey\"]]},\"font\":{\"color\":\"darkslategray\",\"size\":12},\"values\":[[1,2,3,4,5,6,7,8,9,10,11,12,13,14,15,16,17,18,19,20,21,22,23,24,25,26,27,28,29,30,31,32,33,34,35,36],[0.35814526805172275,-0.14193801545475565,-0.10290978876773302,-0.03211665804965717,-0.018390227868525257,-0.019208869318963175,0.011592920923867895,0.010284917621084253,-0.13479141716063978,-0.05476420590236073,0.23354214230177595,0.12777946147017058,-0.022412305067007435,0.011902152775925651,0.02643122094074358,0.01934058630684016,0.029209664901475595,-0.05915357088898373,-0.011675283085008545,0.02405410800939089,0.06925494677510827,0.09104522916137175,-0.03293902943569022,-0.03339723928851838,-0.02543703184297323,-0.07785076677230197,-0.029340136401956922,0.10844636235252303,0.1058722944337035,0.05014751790177726,0.003271611635970838,-0.002215886815111855,-0.04481357602185082,-0.056149076293744216,-0.03556255376932258,-0.03390044051041521],[0.3581452680517227,-0.30996459774340873,0.09479185892593042,-0.08332640975287313,0.009741598630031177,-0.030766392490036328,0.02989378691545792,-0.022152983384568836,-0.1618053766512671,0.10282439105944166,0.20294541695098015,-0.1073792111719471,0.07670198472872077,0.0312795344625201,0.002635467423428567,0.03296509054893122,0.04940432294828269,-0.13503451184999016,0.08867179912118144,0.041062153540855094,0.09042605212305473,-0.04528108577989812,-0.03623275768273171,0.061425705975787635,-0.10279217412158342,-0.025235685073159504,-0.0007832099706536489,0.07910821123129423,0.06730263939625505,0.037041612805391644,-0.0029838079492003284,-0.0372190445770448,-0.07057772701979315,0.03967362332511874,-0.0886461945047922,-0.04451950053242368],[27.451191468429663,31.783438672220907,34.071734123597324,34.29568481561787,34.36946998173492,34.450363141859,34.47997172586945,34.50339068861834,38.54575236642935,39.21634625411633,51.47273655538369,55.160228576178724,55.27424565738022,55.30656383576015,55.46675569331487,55.552967494439336,55.7506250764326,56.56545446212805,56.59736217453835,56.73350890144591,57.86802341860816,59.839150575027084,60.09852419665904,60.36659010700934,60.522934381614434,61.995301530960546,62.20556725975627,65.09385825903132,67.86178964943804,68.48621764797097,68.48889011922161,68.49012295200475,68.99718517778011,69.7977085654582,70.12065855266657,70.41580305171571],[1.611095841652102e-07,1.2540474931863108e-07,1.9132936421889338e-07,6.480547005245121e-07,2.009891555325496e-06,5.505768644748613e-06,1.4003552242962486e-05,3.292133567213736e-05,1.3908686110741517e-05,2.326647620228558e-05,3.3963581141260715e-07,1.6940609008821902e-07,3.6168184931763347e-07,7.668755726395964e-07,1.4905039278640462e-06,2.8839900150918803e-06,5.188579103848723e-06,7.254003291649388e-06,1.3192504384231086e-05,2.252605908633484e-05,2.6700724435218175e-05,2.3606814387559133e-05,3.697250568893669e-05,5.669078923499438e-05,8.853528856668071e-05,8.990515640664443e-05,0.0001345821707249483,8.753613569013796e-05,5.912696867220306e-05,7.71960159188232e-05,0.00012020889345396066,0.00018426325031073174,0.0002407680602067053,0.00028710886240098217,0.0003883369444417088,0.000523809193292651]]},\"header\":{\"align\":[\"left\",\"center\"],\"fill\":{\"color\":\"grey\"},\"font\":{\"color\":\"white\",\"size\":12},\"line\":{\"color\":\"darkslategray\"},\"values\":[\"n\",\"AC\",\"PAC\",\"Q-Stat\",\"Prob\"]},\"type\":\"table\"}],                        {\"template\":{\"data\":{\"bar\":[{\"error_x\":{\"color\":\"#2a3f5f\"},\"error_y\":{\"color\":\"#2a3f5f\"},\"marker\":{\"line\":{\"color\":\"#E5ECF6\",\"width\":0.5},\"pattern\":{\"fillmode\":\"overlay\",\"size\":10,\"solidity\":0.2}},\"type\":\"bar\"}],\"barpolar\":[{\"marker\":{\"line\":{\"color\":\"#E5ECF6\",\"width\":0.5},\"pattern\":{\"fillmode\":\"overlay\",\"size\":10,\"solidity\":0.2}},\"type\":\"barpolar\"}],\"carpet\":[{\"aaxis\":{\"endlinecolor\":\"#2a3f5f\",\"gridcolor\":\"white\",\"linecolor\":\"white\",\"minorgridcolor\":\"white\",\"startlinecolor\":\"#2a3f5f\"},\"baxis\":{\"endlinecolor\":\"#2a3f5f\",\"gridcolor\":\"white\",\"linecolor\":\"white\",\"minorgridcolor\":\"white\",\"startlinecolor\":\"#2a3f5f\"},\"type\":\"carpet\"}],\"choropleth\":[{\"colorbar\":{\"outlinewidth\":0,\"ticks\":\"\"},\"type\":\"choropleth\"}],\"contour\":[{\"colorbar\":{\"outlinewidth\":0,\"ticks\":\"\"},\"colorscale\":[[0.0,\"#0d0887\"],[0.1111111111111111,\"#46039f\"],[0.2222222222222222,\"#7201a8\"],[0.3333333333333333,\"#9c179e\"],[0.4444444444444444,\"#bd3786\"],[0.5555555555555556,\"#d8576b\"],[0.6666666666666666,\"#ed7953\"],[0.7777777777777778,\"#fb9f3a\"],[0.8888888888888888,\"#fdca26\"],[1.0,\"#f0f921\"]],\"type\":\"contour\"}],\"contourcarpet\":[{\"colorbar\":{\"outlinewidth\":0,\"ticks\":\"\"},\"type\":\"contourcarpet\"}],\"heatmap\":[{\"colorbar\":{\"outlinewidth\":0,\"ticks\":\"\"},\"colorscale\":[[0.0,\"#0d0887\"],[0.1111111111111111,\"#46039f\"],[0.2222222222222222,\"#7201a8\"],[0.3333333333333333,\"#9c179e\"],[0.4444444444444444,\"#bd3786\"],[0.5555555555555556,\"#d8576b\"],[0.6666666666666666,\"#ed7953\"],[0.7777777777777778,\"#fb9f3a\"],[0.8888888888888888,\"#fdca26\"],[1.0,\"#f0f921\"]],\"type\":\"heatmap\"}],\"heatmapgl\":[{\"colorbar\":{\"outlinewidth\":0,\"ticks\":\"\"},\"colorscale\":[[0.0,\"#0d0887\"],[0.1111111111111111,\"#46039f\"],[0.2222222222222222,\"#7201a8\"],[0.3333333333333333,\"#9c179e\"],[0.4444444444444444,\"#bd3786\"],[0.5555555555555556,\"#d8576b\"],[0.6666666666666666,\"#ed7953\"],[0.7777777777777778,\"#fb9f3a\"],[0.8888888888888888,\"#fdca26\"],[1.0,\"#f0f921\"]],\"type\":\"heatmapgl\"}],\"histogram\":[{\"marker\":{\"pattern\":{\"fillmode\":\"overlay\",\"size\":10,\"solidity\":0.2}},\"type\":\"histogram\"}],\"histogram2d\":[{\"colorbar\":{\"outlinewidth\":0,\"ticks\":\"\"},\"colorscale\":[[0.0,\"#0d0887\"],[0.1111111111111111,\"#46039f\"],[0.2222222222222222,\"#7201a8\"],[0.3333333333333333,\"#9c179e\"],[0.4444444444444444,\"#bd3786\"],[0.5555555555555556,\"#d8576b\"],[0.6666666666666666,\"#ed7953\"],[0.7777777777777778,\"#fb9f3a\"],[0.8888888888888888,\"#fdca26\"],[1.0,\"#f0f921\"]],\"type\":\"histogram2d\"}],\"histogram2dcontour\":[{\"colorbar\":{\"outlinewidth\":0,\"ticks\":\"\"},\"colorscale\":[[0.0,\"#0d0887\"],[0.1111111111111111,\"#46039f\"],[0.2222222222222222,\"#7201a8\"],[0.3333333333333333,\"#9c179e\"],[0.4444444444444444,\"#bd3786\"],[0.5555555555555556,\"#d8576b\"],[0.6666666666666666,\"#ed7953\"],[0.7777777777777778,\"#fb9f3a\"],[0.8888888888888888,\"#fdca26\"],[1.0,\"#f0f921\"]],\"type\":\"histogram2dcontour\"}],\"mesh3d\":[{\"colorbar\":{\"outlinewidth\":0,\"ticks\":\"\"},\"type\":\"mesh3d\"}],\"parcoords\":[{\"line\":{\"colorbar\":{\"outlinewidth\":0,\"ticks\":\"\"}},\"type\":\"parcoords\"}],\"pie\":[{\"automargin\":true,\"type\":\"pie\"}],\"scatter\":[{\"marker\":{\"colorbar\":{\"outlinewidth\":0,\"ticks\":\"\"}},\"type\":\"scatter\"}],\"scatter3d\":[{\"line\":{\"colorbar\":{\"outlinewidth\":0,\"ticks\":\"\"}},\"marker\":{\"colorbar\":{\"outlinewidth\":0,\"ticks\":\"\"}},\"type\":\"scatter3d\"}],\"scattercarpet\":[{\"marker\":{\"colorbar\":{\"outlinewidth\":0,\"ticks\":\"\"}},\"type\":\"scattercarpet\"}],\"scattergeo\":[{\"marker\":{\"colorbar\":{\"outlinewidth\":0,\"ticks\":\"\"}},\"type\":\"scattergeo\"}],\"scattergl\":[{\"marker\":{\"colorbar\":{\"outlinewidth\":0,\"ticks\":\"\"}},\"type\":\"scattergl\"}],\"scattermapbox\":[{\"marker\":{\"colorbar\":{\"outlinewidth\":0,\"ticks\":\"\"}},\"type\":\"scattermapbox\"}],\"scatterpolar\":[{\"marker\":{\"colorbar\":{\"outlinewidth\":0,\"ticks\":\"\"}},\"type\":\"scatterpolar\"}],\"scatterpolargl\":[{\"marker\":{\"colorbar\":{\"outlinewidth\":0,\"ticks\":\"\"}},\"type\":\"scatterpolargl\"}],\"scatterternary\":[{\"marker\":{\"colorbar\":{\"outlinewidth\":0,\"ticks\":\"\"}},\"type\":\"scatterternary\"}],\"surface\":[{\"colorbar\":{\"outlinewidth\":0,\"ticks\":\"\"},\"colorscale\":[[0.0,\"#0d0887\"],[0.1111111111111111,\"#46039f\"],[0.2222222222222222,\"#7201a8\"],[0.3333333333333333,\"#9c179e\"],[0.4444444444444444,\"#bd3786\"],[0.5555555555555556,\"#d8576b\"],[0.6666666666666666,\"#ed7953\"],[0.7777777777777778,\"#fb9f3a\"],[0.8888888888888888,\"#fdca26\"],[1.0,\"#f0f921\"]],\"type\":\"surface\"}],\"table\":[{\"cells\":{\"fill\":{\"color\":\"#EBF0F8\"},\"line\":{\"color\":\"white\"}},\"header\":{\"fill\":{\"color\":\"#C8D4E3\"},\"line\":{\"color\":\"white\"}},\"type\":\"table\"}]},\"layout\":{\"annotationdefaults\":{\"arrowcolor\":\"#2a3f5f\",\"arrowhead\":0,\"arrowwidth\":1},\"autotypenumbers\":\"strict\",\"coloraxis\":{\"colorbar\":{\"outlinewidth\":0,\"ticks\":\"\"}},\"colorscale\":{\"diverging\":[[0,\"#8e0152\"],[0.1,\"#c51b7d\"],[0.2,\"#de77ae\"],[0.3,\"#f1b6da\"],[0.4,\"#fde0ef\"],[0.5,\"#f7f7f7\"],[0.6,\"#e6f5d0\"],[0.7,\"#b8e186\"],[0.8,\"#7fbc41\"],[0.9,\"#4d9221\"],[1,\"#276419\"]],\"sequential\":[[0.0,\"#0d0887\"],[0.1111111111111111,\"#46039f\"],[0.2222222222222222,\"#7201a8\"],[0.3333333333333333,\"#9c179e\"],[0.4444444444444444,\"#bd3786\"],[0.5555555555555556,\"#d8576b\"],[0.6666666666666666,\"#ed7953\"],[0.7777777777777778,\"#fb9f3a\"],[0.8888888888888888,\"#fdca26\"],[1.0,\"#f0f921\"]],\"sequentialminus\":[[0.0,\"#0d0887\"],[0.1111111111111111,\"#46039f\"],[0.2222222222222222,\"#7201a8\"],[0.3333333333333333,\"#9c179e\"],[0.4444444444444444,\"#bd3786\"],[0.5555555555555556,\"#d8576b\"],[0.6666666666666666,\"#ed7953\"],[0.7777777777777778,\"#fb9f3a\"],[0.8888888888888888,\"#fdca26\"],[1.0,\"#f0f921\"]]},\"colorway\":[\"#636efa\",\"#EF553B\",\"#00cc96\",\"#ab63fa\",\"#FFA15A\",\"#19d3f3\",\"#FF6692\",\"#B6E880\",\"#FF97FF\",\"#FECB52\"],\"font\":{\"color\":\"#2a3f5f\"},\"geo\":{\"bgcolor\":\"white\",\"lakecolor\":\"white\",\"landcolor\":\"#E5ECF6\",\"showlakes\":true,\"showland\":true,\"subunitcolor\":\"white\"},\"hoverlabel\":{\"align\":\"left\"},\"hovermode\":\"closest\",\"mapbox\":{\"style\":\"light\"},\"paper_bgcolor\":\"white\",\"plot_bgcolor\":\"#E5ECF6\",\"polar\":{\"angularaxis\":{\"gridcolor\":\"white\",\"linecolor\":\"white\",\"ticks\":\"\"},\"bgcolor\":\"#E5ECF6\",\"radialaxis\":{\"gridcolor\":\"white\",\"linecolor\":\"white\",\"ticks\":\"\"}},\"scene\":{\"xaxis\":{\"backgroundcolor\":\"#E5ECF6\",\"gridcolor\":\"white\",\"gridwidth\":2,\"linecolor\":\"white\",\"showbackground\":true,\"ticks\":\"\",\"zerolinecolor\":\"white\"},\"yaxis\":{\"backgroundcolor\":\"#E5ECF6\",\"gridcolor\":\"white\",\"gridwidth\":2,\"linecolor\":\"white\",\"showbackground\":true,\"ticks\":\"\",\"zerolinecolor\":\"white\"},\"zaxis\":{\"backgroundcolor\":\"#E5ECF6\",\"gridcolor\":\"white\",\"gridwidth\":2,\"linecolor\":\"white\",\"showbackground\":true,\"ticks\":\"\",\"zerolinecolor\":\"white\"}},\"shapedefaults\":{\"line\":{\"color\":\"#2a3f5f\"}},\"ternary\":{\"aaxis\":{\"gridcolor\":\"white\",\"linecolor\":\"white\",\"ticks\":\"\"},\"baxis\":{\"gridcolor\":\"white\",\"linecolor\":\"white\",\"ticks\":\"\"},\"bgcolor\":\"#E5ECF6\",\"caxis\":{\"gridcolor\":\"white\",\"linecolor\":\"white\",\"ticks\":\"\"}},\"title\":{\"x\":0.05},\"xaxis\":{\"automargin\":true,\"gridcolor\":\"white\",\"linecolor\":\"white\",\"ticks\":\"\",\"title\":{\"standoff\":15},\"zerolinecolor\":\"white\",\"zerolinewidth\":2},\"yaxis\":{\"automargin\":true,\"gridcolor\":\"white\",\"linecolor\":\"white\",\"ticks\":\"\",\"title\":{\"standoff\":15},\"zerolinecolor\":\"white\",\"zerolinewidth\":2}}}},                        {\"responsive\": true}                    ).then(function(){\n",
       "                            \n",
       "var gd = document.getElementById('907c7880-9ec8-4b1f-a9c6-2a0812da7080');\n",
       "var x = new MutationObserver(function (mutations, observer) {{\n",
       "        var display = window.getComputedStyle(gd).display;\n",
       "        if (!display || display === 'none') {{\n",
       "            console.log([gd, 'removed!']);\n",
       "            Plotly.purge(gd);\n",
       "            observer.disconnect();\n",
       "        }}\n",
       "}});\n",
       "\n",
       "// Listen for the removal of the full notebook cells\n",
       "var notebookContainer = gd.closest('#notebook-container');\n",
       "if (notebookContainer) {{\n",
       "    x.observe(notebookContainer, {childList: true});\n",
       "}}\n",
       "\n",
       "// Listen for the clearing of the current output cell\n",
       "var outputEl = gd.closest('.output');\n",
       "if (outputEl) {{\n",
       "    x.observe(outputEl, {childList: true});\n",
       "}}\n",
       "\n",
       "                        })                };                });            </script>        </div>"
      ]
     },
     "metadata": {},
     "output_type": "display_data"
    }
   ],
   "source": [
    "resultado_acf = acf(df_ppinsa_diff, nlags = 36, qstat = True, fft = False)\n",
    "resultado_pacf = pacf(df_ppinsa_diff, nlags = 36, method = \"ywm\")\n",
    "\n",
    "list_acf = list(resultado_acf)\n",
    "AC = list_acf[0]\n",
    "AC = list(AC)\n",
    "AC.remove(AC[0])\n",
    "\n",
    "list_pacf= list(resultado_pacf)\n",
    "list_pacf.remove(list_pacf[0])\n",
    "\n",
    "headerColor = 'grey'\n",
    "rowEvenColor = 'lightgrey'\n",
    "rowOddColor = 'white'\n",
    "\n",
    "fig = go.Figure(data=[go.Table(header=dict(values=['n','AC', 'PAC', 'Q-Stat', 'Prob'],\n",
    "                                          line_color='darkslategray',\n",
    "                                          fill_color=headerColor,\n",
    "                                          align=['left','center'],\n",
    "                                          font=dict(color='white', size=12)),\n",
    "                               cells=dict(values=[list(range(1,37)),AC, list_pacf, list_acf[1], list_acf[2]],\n",
    "                                          fill_color = [[rowOddColor,rowEvenColor]*18],\n",
    "                                          align = ['left', 'center'],\n",
    "                                          font = dict(color = 'darkslategray', size = 12)))\n",
    "                     ])\n",
    "fig.show()"
   ]
  },
  {
   "cell_type": "code",
   "execution_count": 93,
   "id": "83024fc1",
   "metadata": {},
   "outputs": [
    {
     "name": "stdout",
     "output_type": "stream",
     "text": [
      "                                  SARIMAX Results                                  \n",
      "===================================================================================\n",
      "Dep. Variable:                           y   No. Observations:                  211\n",
      "Model:             ARIMA([1, 2, 11], 0, 0)   Log Likelihood                 582.268\n",
      "Date:                     Mon, 28 Mar 2022   AIC                          -1154.537\n",
      "Time:                             10:05:39   BIC                          -1137.777\n",
      "Sample:                                  0   HQIC                         -1147.762\n",
      "                                     - 211                                         \n",
      "Covariance Type:                       opg                                         \n",
      "==============================================================================\n",
      "                 coef    std err          z      P>|z|      [0.025      0.975]\n",
      "------------------------------------------------------------------------------\n",
      "const          0.0086      0.003      2.731      0.006       0.002       0.015\n",
      "ar.L1          0.4883      0.090      5.415      0.000       0.312       0.665\n",
      "ar.L2         -0.0982      0.055     -1.782      0.075      -0.206       0.010\n",
      "ar.L11         0.1622      0.097      1.676      0.094      -0.027       0.352\n",
      "sigma2         0.0002   9.86e-06     23.716      0.000       0.000       0.000\n",
      "===================================================================================\n",
      "Ljung-Box (L1) (Q):                   0.15   Jarque-Bera (JB):              4338.50\n",
      "Prob(Q):                              0.70   Prob(JB):                         0.00\n",
      "Heteroskedasticity (H):               2.38   Skew:                            -2.09\n",
      "Prob(H) (two-sided):                  0.00   Kurtosis:                        24.82\n",
      "===================================================================================\n",
      "\n",
      "Warnings:\n",
      "[1] Covariance matrix calculated using the outer product of gradients (complex-step).\n"
     ]
    }
   ],
   "source": [
    "# Log\n",
    "df_lppinsa = np.log(df_ppinsa['PPINSA'])\n",
    "df_lppinsa = df_lppinsa.diff().dropna()\n",
    "array_lppinsa_diff = np.asarray(df_lppinsa)\n",
    "\n",
    "# Lista com as variáveis AR (autorregressores) e MA (Média Móvel)\n",
    "lista_ar = list(range(1,3)) + [11]\n",
    "lista_ma = 0\n",
    "\n",
    "# Modelo autorregressivo 1\n",
    "\n",
    "arma_mod = ARIMA(array_lppinsa_diff, order = (lista_ar,0,lista_ma), trend = 'c')\n",
    "model = arma_mod.fit()\n",
    "print(model.summary())"
   ]
  },
  {
   "cell_type": "code",
   "execution_count": 106,
   "id": "682837f3",
   "metadata": {},
   "outputs": [
    {
     "data": {
      "text/plain": [
       "[Text(0.5, 1.0, 'Valores previstos d(log(PPINSA))'),\n",
       " Text(0, 0.5, 'Indice'),\n",
       " Text(0.5, 0, 'Ano')]"
      ]
     },
     "execution_count": 106,
     "metadata": {},
     "output_type": "execute_result"
    },
    {
     "data": {
      "image/png": "[encoded data removed]",
      "text/plain": [
       "<Figure size 1080x360 with 1 Axes>"
      ]
     },
     "metadata": {
      "needs_background": "light"
     },
     "output_type": "display_data"
    }
   ],
   "source": [
    "# Forecasting model\n",
    "predict_results = model.get_prediction(start = 11, end = 211)\n",
    "\n",
    "# DF com os valores previstos + IC\n",
    "pred_summary = predict_results.summary_frame()\n",
    "pred_summary['Date'] = pd.date_range(start='1962-10-01',\n",
    "                                     end='2012-10-01',\n",
    "                                     freq='3MS')\n",
    "zarray = np.zeros(201)\n",
    "\n",
    "# Gráfico\n",
    "\n",
    "fig, ax = plt.subplots(figsize = (15,5)) \n",
    "\n",
    "ax.plot(pred_summary['Date'], pred_summary['mean'], label='Forecast')\n",
    "ax.plot(pred_summary['Date'], pred_summary['mean_ci_upper'],\n",
    "        color = 'orange', linestyle='dashed', label='2±S.E')\n",
    "ax.plot(pred_summary['Date'], pred_summary['mean_ci_lower'],\n",
    "        color = 'orange', linestyle='dashed')\n",
    "ax.plot(pred_summary['Date'], zarray, color = 'gray')\n",
    "ax.legend()\n",
    "ax.set(title='Valores previstos d(log(PPINSA))', ylabel='Indice', xlabel='Ano')"
   ]
  },
  {
   "cell_type": "markdown",
   "id": "521d83ff",
   "metadata": {},
   "source": [
    "## Combinação de previsões\n",
    "Não achei nada específico em python, imagino seja somente os modelos estimados, por algum dos métodos apresentados em sala, como variáveis independentes e o a variável observada como independente"
   ]
  },
  {
   "cell_type": "code",
   "execution_count": null,
   "id": "755c4e9d",
   "metadata": {},
   "outputs": [],
   "source": []
  }
 ],
 "metadata": {
  "kernelspec": {
   "display_name": "Python 3 (ipykernel)",
   "language": "python",
   "name": "python3"
  },
  "language_info": {
   "codemirror_mode": {
    "name": "ipython",
    "version": 3
   },
   "file_extension": ".py",
   "mimetype": "text/x-python",
   "name": "python",
   "nbconvert_exporter": "python",
   "pygments_lexer": "ipython3",
   "version": "3.9.7"
  }
 },
 "nbformat": 4,
 "nbformat_minor": 5
}
